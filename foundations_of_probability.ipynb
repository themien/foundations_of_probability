{
 "cells": [
  {
   "cell_type": "code",
   "execution_count": 1,
   "metadata": {},
   "outputs": [
    {
     "data": {
      "text/html": [
       "\n",
       "    <div class=\"bk-root\">\n",
       "        <a href=\"https://bokeh.pydata.org\" target=\"_blank\" class=\"bk-logo bk-logo-small bk-logo-notebook\"></a>\n",
       "        <span id=\"1001\">Loading BokehJS ...</span>\n",
       "    </div>"
      ]
     },
     "metadata": {},
     "output_type": "display_data"
    },
    {
     "data": {
      "application/javascript": [
       "\n",
       "(function(root) {\n",
       "  function now() {\n",
       "    return new Date();\n",
       "  }\n",
       "\n",
       "  var force = true;\n",
       "\n",
       "  if (typeof root._bokeh_onload_callbacks === \"undefined\" || force === true) {\n",
       "    root._bokeh_onload_callbacks = [];\n",
       "    root._bokeh_is_loading = undefined;\n",
       "  }\n",
       "\n",
       "  var JS_MIME_TYPE = 'application/javascript';\n",
       "  var HTML_MIME_TYPE = 'text/html';\n",
       "  var EXEC_MIME_TYPE = 'application/vnd.bokehjs_exec.v0+json';\n",
       "  var CLASS_NAME = 'output_bokeh rendered_html';\n",
       "\n",
       "  /**\n",
       "   * Render data to the DOM node\n",
       "   */\n",
       "  function render(props, node) {\n",
       "    var script = document.createElement(\"script\");\n",
       "    node.appendChild(script);\n",
       "  }\n",
       "\n",
       "  /**\n",
       "   * Handle when an output is cleared or removed\n",
       "   */\n",
       "  function handleClearOutput(event, handle) {\n",
       "    var cell = handle.cell;\n",
       "\n",
       "    var id = cell.output_area._bokeh_element_id;\n",
       "    var server_id = cell.output_area._bokeh_server_id;\n",
       "    // Clean up Bokeh references\n",
       "    if (id != null && id in Bokeh.index) {\n",
       "      Bokeh.index[id].model.document.clear();\n",
       "      delete Bokeh.index[id];\n",
       "    }\n",
       "\n",
       "    if (server_id !== undefined) {\n",
       "      // Clean up Bokeh references\n",
       "      var cmd = \"from bokeh.io.state import curstate; print(curstate().uuid_to_server['\" + server_id + \"'].get_sessions()[0].document.roots[0]._id)\";\n",
       "      cell.notebook.kernel.execute(cmd, {\n",
       "        iopub: {\n",
       "          output: function(msg) {\n",
       "            var id = msg.content.text.trim();\n",
       "            if (id in Bokeh.index) {\n",
       "              Bokeh.index[id].model.document.clear();\n",
       "              delete Bokeh.index[id];\n",
       "            }\n",
       "          }\n",
       "        }\n",
       "      });\n",
       "      // Destroy server and session\n",
       "      var cmd = \"import bokeh.io.notebook as ion; ion.destroy_server('\" + server_id + \"')\";\n",
       "      cell.notebook.kernel.execute(cmd);\n",
       "    }\n",
       "  }\n",
       "\n",
       "  /**\n",
       "   * Handle when a new output is added\n",
       "   */\n",
       "  function handleAddOutput(event, handle) {\n",
       "    var output_area = handle.output_area;\n",
       "    var output = handle.output;\n",
       "\n",
       "    // limit handleAddOutput to display_data with EXEC_MIME_TYPE content only\n",
       "    if ((output.output_type != \"display_data\") || (!output.data.hasOwnProperty(EXEC_MIME_TYPE))) {\n",
       "      return\n",
       "    }\n",
       "\n",
       "    var toinsert = output_area.element.find(\".\" + CLASS_NAME.split(' ')[0]);\n",
       "\n",
       "    if (output.metadata[EXEC_MIME_TYPE][\"id\"] !== undefined) {\n",
       "      toinsert[toinsert.length - 1].firstChild.textContent = output.data[JS_MIME_TYPE];\n",
       "      // store reference to embed id on output_area\n",
       "      output_area._bokeh_element_id = output.metadata[EXEC_MIME_TYPE][\"id\"];\n",
       "    }\n",
       "    if (output.metadata[EXEC_MIME_TYPE][\"server_id\"] !== undefined) {\n",
       "      var bk_div = document.createElement(\"div\");\n",
       "      bk_div.innerHTML = output.data[HTML_MIME_TYPE];\n",
       "      var script_attrs = bk_div.children[0].attributes;\n",
       "      for (var i = 0; i < script_attrs.length; i++) {\n",
       "        toinsert[toinsert.length - 1].firstChild.setAttribute(script_attrs[i].name, script_attrs[i].value);\n",
       "      }\n",
       "      // store reference to server id on output_area\n",
       "      output_area._bokeh_server_id = output.metadata[EXEC_MIME_TYPE][\"server_id\"];\n",
       "    }\n",
       "  }\n",
       "\n",
       "  function register_renderer(events, OutputArea) {\n",
       "\n",
       "    function append_mime(data, metadata, element) {\n",
       "      // create a DOM node to render to\n",
       "      var toinsert = this.create_output_subarea(\n",
       "        metadata,\n",
       "        CLASS_NAME,\n",
       "        EXEC_MIME_TYPE\n",
       "      );\n",
       "      this.keyboard_manager.register_events(toinsert);\n",
       "      // Render to node\n",
       "      var props = {data: data, metadata: metadata[EXEC_MIME_TYPE]};\n",
       "      render(props, toinsert[toinsert.length - 1]);\n",
       "      element.append(toinsert);\n",
       "      return toinsert\n",
       "    }\n",
       "\n",
       "    /* Handle when an output is cleared or removed */\n",
       "    events.on('clear_output.CodeCell', handleClearOutput);\n",
       "    events.on('delete.Cell', handleClearOutput);\n",
       "\n",
       "    /* Handle when a new output is added */\n",
       "    events.on('output_added.OutputArea', handleAddOutput);\n",
       "\n",
       "    /**\n",
       "     * Register the mime type and append_mime function with output_area\n",
       "     */\n",
       "    OutputArea.prototype.register_mime_type(EXEC_MIME_TYPE, append_mime, {\n",
       "      /* Is output safe? */\n",
       "      safe: true,\n",
       "      /* Index of renderer in `output_area.display_order` */\n",
       "      index: 0\n",
       "    });\n",
       "  }\n",
       "\n",
       "  // register the mime type if in Jupyter Notebook environment and previously unregistered\n",
       "  if (root.Jupyter !== undefined) {\n",
       "    var events = require('base/js/events');\n",
       "    var OutputArea = require('notebook/js/outputarea').OutputArea;\n",
       "\n",
       "    if (OutputArea.prototype.mime_types().indexOf(EXEC_MIME_TYPE) == -1) {\n",
       "      register_renderer(events, OutputArea);\n",
       "    }\n",
       "  }\n",
       "\n",
       "  \n",
       "  if (typeof (root._bokeh_timeout) === \"undefined\" || force === true) {\n",
       "    root._bokeh_timeout = Date.now() + 5000;\n",
       "    root._bokeh_failed_load = false;\n",
       "  }\n",
       "\n",
       "  var NB_LOAD_WARNING = {'data': {'text/html':\n",
       "     \"<div style='background-color: #fdd'>\\n\"+\n",
       "     \"<p>\\n\"+\n",
       "     \"BokehJS does not appear to have successfully loaded. If loading BokehJS from CDN, this \\n\"+\n",
       "     \"may be due to a slow or bad network connection. Possible fixes:\\n\"+\n",
       "     \"</p>\\n\"+\n",
       "     \"<ul>\\n\"+\n",
       "     \"<li>re-rerun `output_notebook()` to attempt to load from CDN again, or</li>\\n\"+\n",
       "     \"<li>use INLINE resources instead, as so:</li>\\n\"+\n",
       "     \"</ul>\\n\"+\n",
       "     \"<code>\\n\"+\n",
       "     \"from bokeh.resources import INLINE\\n\"+\n",
       "     \"output_notebook(resources=INLINE)\\n\"+\n",
       "     \"</code>\\n\"+\n",
       "     \"</div>\"}};\n",
       "\n",
       "  function display_loaded() {\n",
       "    var el = document.getElementById(\"1001\");\n",
       "    if (el != null) {\n",
       "      el.textContent = \"BokehJS is loading...\";\n",
       "    }\n",
       "    if (root.Bokeh !== undefined) {\n",
       "      if (el != null) {\n",
       "        el.textContent = \"BokehJS \" + root.Bokeh.version + \" successfully loaded.\";\n",
       "      }\n",
       "    } else if (Date.now() < root._bokeh_timeout) {\n",
       "      setTimeout(display_loaded, 100)\n",
       "    }\n",
       "  }\n",
       "\n",
       "\n",
       "  function run_callbacks() {\n",
       "    try {\n",
       "      root._bokeh_onload_callbacks.forEach(function(callback) {\n",
       "        if (callback != null)\n",
       "          callback();\n",
       "      });\n",
       "    } finally {\n",
       "      delete root._bokeh_onload_callbacks\n",
       "    }\n",
       "    console.debug(\"Bokeh: all callbacks have finished\");\n",
       "  }\n",
       "\n",
       "  function load_libs(css_urls, js_urls, callback) {\n",
       "    if (css_urls == null) css_urls = [];\n",
       "    if (js_urls == null) js_urls = [];\n",
       "\n",
       "    root._bokeh_onload_callbacks.push(callback);\n",
       "    if (root._bokeh_is_loading > 0) {\n",
       "      console.debug(\"Bokeh: BokehJS is being loaded, scheduling callback at\", now());\n",
       "      return null;\n",
       "    }\n",
       "    if (js_urls == null || js_urls.length === 0) {\n",
       "      run_callbacks();\n",
       "      return null;\n",
       "    }\n",
       "    console.debug(\"Bokeh: BokehJS not loaded, scheduling load and callback at\", now());\n",
       "    root._bokeh_is_loading = css_urls.length + js_urls.length;\n",
       "\n",
       "    function on_load() {\n",
       "      root._bokeh_is_loading--;\n",
       "      if (root._bokeh_is_loading === 0) {\n",
       "        console.debug(\"Bokeh: all BokehJS libraries/stylesheets loaded\");\n",
       "        run_callbacks()\n",
       "      }\n",
       "    }\n",
       "\n",
       "    function on_error() {\n",
       "      console.error(\"failed to load \" + url);\n",
       "    }\n",
       "\n",
       "    for (var i = 0; i < css_urls.length; i++) {\n",
       "      var url = css_urls[i];\n",
       "      const element = document.createElement(\"link\");\n",
       "      element.onload = on_load;\n",
       "      element.onerror = on_error;\n",
       "      element.rel = \"stylesheet\";\n",
       "      element.type = \"text/css\";\n",
       "      element.href = url;\n",
       "      console.debug(\"Bokeh: injecting link tag for BokehJS stylesheet: \", url);\n",
       "      document.body.appendChild(element);\n",
       "    }\n",
       "\n",
       "    for (var i = 0; i < js_urls.length; i++) {\n",
       "      var url = js_urls[i];\n",
       "      var element = document.createElement('script');\n",
       "      element.onload = on_load;\n",
       "      element.onerror = on_error;\n",
       "      element.async = false;\n",
       "      element.src = url;\n",
       "      console.debug(\"Bokeh: injecting script tag for BokehJS library: \", url);\n",
       "      document.head.appendChild(element);\n",
       "    }\n",
       "  };var element = document.getElementById(\"1001\");\n",
       "  if (element == null) {\n",
       "    console.error(\"Bokeh: ERROR: autoload.js configured with elementid '1001' but no matching script tag was found. \")\n",
       "    return false;\n",
       "  }\n",
       "\n",
       "  function inject_raw_css(css) {\n",
       "    const element = document.createElement(\"style\");\n",
       "    element.appendChild(document.createTextNode(css));\n",
       "    document.body.appendChild(element);\n",
       "  }\n",
       "\n",
       "  var js_urls = [\"https://cdn.pydata.org/bokeh/release/bokeh-1.2.0.min.js\", \"https://cdn.pydata.org/bokeh/release/bokeh-widgets-1.2.0.min.js\", \"https://cdn.pydata.org/bokeh/release/bokeh-tables-1.2.0.min.js\", \"https://cdn.pydata.org/bokeh/release/bokeh-gl-1.2.0.min.js\"];\n",
       "  var css_urls = [\"https://cdn.pydata.org/bokeh/release/bokeh-1.2.0.min.css\", \"https://cdn.pydata.org/bokeh/release/bokeh-widgets-1.2.0.min.css\", \"https://cdn.pydata.org/bokeh/release/bokeh-tables-1.2.0.min.css\"];\n",
       "\n",
       "  var inline_js = [\n",
       "    function(Bokeh) {\n",
       "      Bokeh.set_log_level(\"info\");\n",
       "    },\n",
       "    \n",
       "    function(Bokeh) {\n",
       "      \n",
       "    },\n",
       "    function(Bokeh) {} // ensure no trailing comma for IE\n",
       "  ];\n",
       "\n",
       "  function run_inline_js() {\n",
       "    \n",
       "    if ((root.Bokeh !== undefined) || (force === true)) {\n",
       "      for (var i = 0; i < inline_js.length; i++) {\n",
       "        inline_js[i].call(root, root.Bokeh);\n",
       "      }if (force === true) {\n",
       "        display_loaded();\n",
       "      }} else if (Date.now() < root._bokeh_timeout) {\n",
       "      setTimeout(run_inline_js, 100);\n",
       "    } else if (!root._bokeh_failed_load) {\n",
       "      console.log(\"Bokeh: BokehJS failed to load within specified timeout.\");\n",
       "      root._bokeh_failed_load = true;\n",
       "    } else if (force !== true) {\n",
       "      var cell = $(document.getElementById(\"1001\")).parents('.cell').data().cell;\n",
       "      cell.output_area.append_execute_result(NB_LOAD_WARNING)\n",
       "    }\n",
       "\n",
       "  }\n",
       "\n",
       "  if (root._bokeh_is_loading === 0) {\n",
       "    console.debug(\"Bokeh: BokehJS loaded, going straight to plotting\");\n",
       "    run_inline_js();\n",
       "  } else {\n",
       "    load_libs(css_urls, js_urls, function() {\n",
       "      console.debug(\"Bokeh: BokehJS plotting callback run at\", now());\n",
       "      run_inline_js();\n",
       "    });\n",
       "  }\n",
       "}(window));"
      ],
      "application/vnd.bokehjs_load.v0+json": "\n(function(root) {\n  function now() {\n    return new Date();\n  }\n\n  var force = true;\n\n  if (typeof root._bokeh_onload_callbacks === \"undefined\" || force === true) {\n    root._bokeh_onload_callbacks = [];\n    root._bokeh_is_loading = undefined;\n  }\n\n  \n\n  \n  if (typeof (root._bokeh_timeout) === \"undefined\" || force === true) {\n    root._bokeh_timeout = Date.now() + 5000;\n    root._bokeh_failed_load = false;\n  }\n\n  var NB_LOAD_WARNING = {'data': {'text/html':\n     \"<div style='background-color: #fdd'>\\n\"+\n     \"<p>\\n\"+\n     \"BokehJS does not appear to have successfully loaded. If loading BokehJS from CDN, this \\n\"+\n     \"may be due to a slow or bad network connection. Possible fixes:\\n\"+\n     \"</p>\\n\"+\n     \"<ul>\\n\"+\n     \"<li>re-rerun `output_notebook()` to attempt to load from CDN again, or</li>\\n\"+\n     \"<li>use INLINE resources instead, as so:</li>\\n\"+\n     \"</ul>\\n\"+\n     \"<code>\\n\"+\n     \"from bokeh.resources import INLINE\\n\"+\n     \"output_notebook(resources=INLINE)\\n\"+\n     \"</code>\\n\"+\n     \"</div>\"}};\n\n  function display_loaded() {\n    var el = document.getElementById(\"1001\");\n    if (el != null) {\n      el.textContent = \"BokehJS is loading...\";\n    }\n    if (root.Bokeh !== undefined) {\n      if (el != null) {\n        el.textContent = \"BokehJS \" + root.Bokeh.version + \" successfully loaded.\";\n      }\n    } else if (Date.now() < root._bokeh_timeout) {\n      setTimeout(display_loaded, 100)\n    }\n  }\n\n\n  function run_callbacks() {\n    try {\n      root._bokeh_onload_callbacks.forEach(function(callback) {\n        if (callback != null)\n          callback();\n      });\n    } finally {\n      delete root._bokeh_onload_callbacks\n    }\n    console.debug(\"Bokeh: all callbacks have finished\");\n  }\n\n  function load_libs(css_urls, js_urls, callback) {\n    if (css_urls == null) css_urls = [];\n    if (js_urls == null) js_urls = [];\n\n    root._bokeh_onload_callbacks.push(callback);\n    if (root._bokeh_is_loading > 0) {\n      console.debug(\"Bokeh: BokehJS is being loaded, scheduling callback at\", now());\n      return null;\n    }\n    if (js_urls == null || js_urls.length === 0) {\n      run_callbacks();\n      return null;\n    }\n    console.debug(\"Bokeh: BokehJS not loaded, scheduling load and callback at\", now());\n    root._bokeh_is_loading = css_urls.length + js_urls.length;\n\n    function on_load() {\n      root._bokeh_is_loading--;\n      if (root._bokeh_is_loading === 0) {\n        console.debug(\"Bokeh: all BokehJS libraries/stylesheets loaded\");\n        run_callbacks()\n      }\n    }\n\n    function on_error() {\n      console.error(\"failed to load \" + url);\n    }\n\n    for (var i = 0; i < css_urls.length; i++) {\n      var url = css_urls[i];\n      const element = document.createElement(\"link\");\n      element.onload = on_load;\n      element.onerror = on_error;\n      element.rel = \"stylesheet\";\n      element.type = \"text/css\";\n      element.href = url;\n      console.debug(\"Bokeh: injecting link tag for BokehJS stylesheet: \", url);\n      document.body.appendChild(element);\n    }\n\n    for (var i = 0; i < js_urls.length; i++) {\n      var url = js_urls[i];\n      var element = document.createElement('script');\n      element.onload = on_load;\n      element.onerror = on_error;\n      element.async = false;\n      element.src = url;\n      console.debug(\"Bokeh: injecting script tag for BokehJS library: \", url);\n      document.head.appendChild(element);\n    }\n  };var element = document.getElementById(\"1001\");\n  if (element == null) {\n    console.error(\"Bokeh: ERROR: autoload.js configured with elementid '1001' but no matching script tag was found. \")\n    return false;\n  }\n\n  function inject_raw_css(css) {\n    const element = document.createElement(\"style\");\n    element.appendChild(document.createTextNode(css));\n    document.body.appendChild(element);\n  }\n\n  var js_urls = [\"https://cdn.pydata.org/bokeh/release/bokeh-1.2.0.min.js\", \"https://cdn.pydata.org/bokeh/release/bokeh-widgets-1.2.0.min.js\", \"https://cdn.pydata.org/bokeh/release/bokeh-tables-1.2.0.min.js\", \"https://cdn.pydata.org/bokeh/release/bokeh-gl-1.2.0.min.js\"];\n  var css_urls = [\"https://cdn.pydata.org/bokeh/release/bokeh-1.2.0.min.css\", \"https://cdn.pydata.org/bokeh/release/bokeh-widgets-1.2.0.min.css\", \"https://cdn.pydata.org/bokeh/release/bokeh-tables-1.2.0.min.css\"];\n\n  var inline_js = [\n    function(Bokeh) {\n      Bokeh.set_log_level(\"info\");\n    },\n    \n    function(Bokeh) {\n      \n    },\n    function(Bokeh) {} // ensure no trailing comma for IE\n  ];\n\n  function run_inline_js() {\n    \n    if ((root.Bokeh !== undefined) || (force === true)) {\n      for (var i = 0; i < inline_js.length; i++) {\n        inline_js[i].call(root, root.Bokeh);\n      }if (force === true) {\n        display_loaded();\n      }} else if (Date.now() < root._bokeh_timeout) {\n      setTimeout(run_inline_js, 100);\n    } else if (!root._bokeh_failed_load) {\n      console.log(\"Bokeh: BokehJS failed to load within specified timeout.\");\n      root._bokeh_failed_load = true;\n    } else if (force !== true) {\n      var cell = $(document.getElementById(\"1001\")).parents('.cell').data().cell;\n      cell.output_area.append_execute_result(NB_LOAD_WARNING)\n    }\n\n  }\n\n  if (root._bokeh_is_loading === 0) {\n    console.debug(\"Bokeh: BokehJS loaded, going straight to plotting\");\n    run_inline_js();\n  } else {\n    load_libs(css_urls, js_urls, function() {\n      console.debug(\"Bokeh: BokehJS plotting callback run at\", now());\n      run_inline_js();\n    });\n  }\n}(window));"
     },
     "metadata": {},
     "output_type": "display_data"
    }
   ],
   "source": [
    "from bokeh.io import curdoc\n",
    "from bokeh.plotting import figure\n",
    "from bokeh.io import show, output_notebook\n",
    "output_notebook()\n",
    "\n",
    "from bokeh.layouts import widgetbox, column\n",
    "from bokeh.models import Slider, Label\n",
    "\n",
    "import numpy as np\n",
    "np.random.seed(23)"
   ]
  },
  {
   "cell_type": "markdown",
   "metadata": {},
   "source": [
    "# Foundations of Probability\n",
    "\n",
    "Probability is the foundation of many of the methods and models in data science. Statistical inference methods use data to understand the underlying processes behind the data. With probability we can study the regularities that arise in random phenomena.\n",
    "\n",
    "We will start simulating in Python and learn to calculate probabilities and work with probability distributions.\n",
    "\n",
    "# Flipping a coin\n",
    "\n",
    "Let's try to gain some intutition about probability by starting with the classic random experiment, a coin flip.\n",
    "\n",
    "If we flip a coin there are two possible outcomes: heads or tails. This random experiment is called a <b>Bernoulli trial</b>, after Jacob Bernoulli. \n",
    "\n",
    "<b>A Bernoulli trial is one where the possible outcomes are binary. Each outcome is called an event. We assign probabilities to events.</b>\n",
    "\n",
    "With a fair coin we have a 50% chance of getting heads and a 50% chance of getting tails for each event.\n",
    "\n",
    "To simulate the coin flips we can use the <code>bernoulli</code> object from the <code>scipy</code> module where:\n",
    "\n",
    "- <code>p</code> is the probability of success\n",
    "-  <code>size</code> is the number of trials"
   ]
  },
  {
   "cell_type": "code",
   "execution_count": 2,
   "metadata": {},
   "outputs": [
    {
     "data": {
      "text/plain": [
       "array([1, 1, 1, 0, 0, 1, 0, 0, 1, 0])"
      ]
     },
     "execution_count": 2,
     "metadata": {},
     "output_type": "execute_result"
    }
   ],
   "source": [
    "from scipy.stats import bernoulli\n",
    "\n",
    "# flip the coin\n",
    "bernoulli.rvs(p=0.5, size=10)"
   ]
  },
  {
   "cell_type": "markdown",
   "metadata": {},
   "source": [
    "# Binomial Distribution\n",
    "\n",
    "<b>A sequence of independent Bernoulli trial follows the binomial distribution.</b>So, if we want to count the number of successes instead of using the bernoulli object and adding the outcomes, we can use the binomial distribution and the <code>binom</code> object."
   ]
  },
  {
   "cell_type": "code",
   "execution_count": 76,
   "metadata": {},
   "outputs": [
    {
     "data": {
      "text/plain": [
       "array([8, 6, 5, 4, 5])"
      ]
     },
     "execution_count": 76,
     "metadata": {},
     "output_type": "execute_result"
    }
   ],
   "source": [
    "from scipy.stats import binom\n",
    "\n",
    "# count the number of heads \n",
    "binom.rvs(n=10, p=0.5, size=5)"
   ]
  },
  {
   "cell_type": "markdown",
   "metadata": {},
   "source": [
    "We used three arguments:\n",
    "\n",
    "- <code>n</code>: number of flips per trial\n",
    "- <code>p</code>: probability of success\n",
    "- <code>size</code>: number of draws of the same experiment"
   ]
  },
  {
   "cell_type": "code",
   "execution_count": 4,
   "metadata": {},
   "outputs": [
    {
     "data": {
      "text/plain": [
       "array([7, 7, 4, 5, 8])"
      ]
     },
     "execution_count": 4,
     "metadata": {},
     "output_type": "execute_result"
    }
   ],
   "source": [
    "# count the number of heads in 5 experiments\n",
    "binom.rvs(n=10, p=0.5, size=5)"
   ]
  },
  {
   "cell_type": "markdown",
   "metadata": {},
   "source": [
    "## <b>Probability mass function (pmf)</b>\n",
    "  \n",
    "A discrete random variable has a finite number of possible outcomes. The probability mass function allows us to calculate the probability of getting a particular outcome for a discrete random variable.\n",
    " \n",
    "<b>The binomial probability mass function allows us to calculate the probability of getting $k$ heads from $n$ coin flips with $p$ probability.</b>\n",
    " \n",
    "$$binom.pmf(k, n, p) = \\binom{n}{k}p^k(1 - p)^{n-k} $$\n",
    "\n",
    "where\n",
    "\n",
    "$$\\binom{n}{k} = \\frac{n!}{k!(n-k)!}$$\n",
    "\n",
    "The formula multiplies the number of different ways that we can get $k$ successes out of $n$ coin flips by the probability of success $p$ raised by the number of successes $k$ by the probability of failure $1-p$ raised to the number of failures $n-k$."
   ]
  },
  {
   "cell_type": "code",
   "execution_count": 5,
   "metadata": {},
   "outputs": [
    {
     "data": {
      "text/plain": [
       "0.24609375000000025"
      ]
     },
     "execution_count": 5,
     "metadata": {},
     "output_type": "execute_result"
    }
   ],
   "source": [
    "# probability of 5 heads after 10 throws with a fair coin\n",
    "binom.pmf(k=5, n=10, p=0.5)"
   ]
  },
  {
   "cell_type": "markdown",
   "metadata": {},
   "source": [
    "We can plot this to see how the most likely outcome vary."
   ]
  },
  {
   "cell_type": "code",
   "execution_count": 65,
   "metadata": {},
   "outputs": [
    {
     "data": {
      "text/html": [
       "\n",
       "\n",
       "\n",
       "\n",
       "\n",
       "\n",
       "  <div class=\"bk-root\" id=\"8ba7b21f-2e3e-425a-a50d-0476aec97951\" data-root-id=\"23979\"></div>\n"
      ]
     },
     "metadata": {},
     "output_type": "display_data"
    },
    {
     "data": {
      "application/javascript": [
       "(function(root) {\n",
       "  function embed_document(root) {\n",
       "    \n",
       "  var docs_json = {\"121e370c-af88-45e0-ba7a-075011c392b6\":{\"roots\":{\"references\":[{\"attributes\":{\"below\":[{\"id\":\"23988\",\"type\":\"LinearAxis\"}],\"center\":[{\"id\":\"23992\",\"type\":\"Grid\"},{\"id\":\"23997\",\"type\":\"Grid\"}],\"left\":[{\"id\":\"23993\",\"type\":\"LinearAxis\"}],\"plot_height\":400,\"plot_width\":550,\"renderers\":[{\"id\":\"24014\",\"type\":\"GlyphRenderer\"},{\"id\":\"24019\",\"type\":\"GlyphRenderer\"},{\"id\":\"24024\",\"type\":\"GlyphRenderer\"},{\"id\":\"24029\",\"type\":\"GlyphRenderer\"},{\"id\":\"24034\",\"type\":\"GlyphRenderer\"},{\"id\":\"24039\",\"type\":\"GlyphRenderer\"},{\"id\":\"24044\",\"type\":\"GlyphRenderer\"},{\"id\":\"24049\",\"type\":\"GlyphRenderer\"},{\"id\":\"24054\",\"type\":\"GlyphRenderer\"},{\"id\":\"24059\",\"type\":\"GlyphRenderer\"},{\"id\":\"24064\",\"type\":\"GlyphRenderer\"},{\"id\":\"24069\",\"type\":\"GlyphRenderer\"},{\"id\":\"24074\",\"type\":\"GlyphRenderer\"},{\"id\":\"24079\",\"type\":\"GlyphRenderer\"},{\"id\":\"24084\",\"type\":\"GlyphRenderer\"},{\"id\":\"24089\",\"type\":\"GlyphRenderer\"},{\"id\":\"24094\",\"type\":\"GlyphRenderer\"},{\"id\":\"24099\",\"type\":\"GlyphRenderer\"},{\"id\":\"24104\",\"type\":\"GlyphRenderer\"},{\"id\":\"24109\",\"type\":\"GlyphRenderer\"},{\"id\":\"24114\",\"type\":\"GlyphRenderer\"},{\"id\":\"24119\",\"type\":\"GlyphRenderer\"},{\"id\":\"24124\",\"type\":\"GlyphRenderer\"},{\"id\":\"24129\",\"type\":\"GlyphRenderer\"},{\"id\":\"24134\",\"type\":\"GlyphRenderer\"},{\"id\":\"24139\",\"type\":\"GlyphRenderer\"},{\"id\":\"24144\",\"type\":\"GlyphRenderer\"},{\"id\":\"24149\",\"type\":\"GlyphRenderer\"},{\"id\":\"24154\",\"type\":\"GlyphRenderer\"},{\"id\":\"24159\",\"type\":\"GlyphRenderer\"},{\"id\":\"24164\",\"type\":\"GlyphRenderer\"},{\"id\":\"24169\",\"type\":\"GlyphRenderer\"},{\"id\":\"24174\",\"type\":\"GlyphRenderer\"},{\"id\":\"24179\",\"type\":\"GlyphRenderer\"},{\"id\":\"24184\",\"type\":\"GlyphRenderer\"},{\"id\":\"24189\",\"type\":\"GlyphRenderer\"},{\"id\":\"24194\",\"type\":\"GlyphRenderer\"},{\"id\":\"24199\",\"type\":\"GlyphRenderer\"},{\"id\":\"24204\",\"type\":\"GlyphRenderer\"},{\"id\":\"24209\",\"type\":\"GlyphRenderer\"},{\"id\":\"24214\",\"type\":\"GlyphRenderer\"},{\"id\":\"24219\",\"type\":\"GlyphRenderer\"}],\"title\":{\"id\":\"25089\",\"type\":\"Title\"},\"toolbar\":{\"id\":\"24004\",\"type\":\"Toolbar\"},\"x_range\":{\"id\":\"23980\",\"type\":\"DataRange1d\"},\"x_scale\":{\"id\":\"23984\",\"type\":\"LinearScale\"},\"y_range\":{\"id\":\"23982\",\"type\":\"DataRange1d\"},\"y_scale\":{\"id\":\"23986\",\"type\":\"LinearScale\"}},\"id\":\"23979\",\"subtype\":\"Figure\",\"type\":\"Plot\"},{\"attributes\":{\"fill_alpha\":{\"value\":0.1},\"fill_color\":{\"value\":\"#1f77b4\"},\"line_alpha\":{\"value\":0.1},\"line_color\":{\"value\":\"#1f77b4\"},\"size\":{\"units\":\"screen\",\"value\":16},\"x\":{\"value\":1},\"y\":{\"value\":1.907348632812499e-05}},\"id\":\"24028\",\"type\":\"Circle\"},{\"attributes\":{\"callback\":null,\"data\":{},\"selected\":{\"id\":\"25131\",\"type\":\"Selection\"},\"selection_policy\":{\"id\":\"25130\",\"type\":\"UnionRenderers\"}},\"id\":\"24101\",\"type\":\"ColumnDataSource\"},{\"attributes\":{\"line_alpha\":{\"value\":0.1},\"line_color\":{\"value\":\"#1f77b4\"},\"line_width\":{\"value\":2},\"x0\":{\"value\":16},\"x1\":{\"value\":16},\"y0\":{\"value\":0},\"y1\":{\"value\":0.004620552062988271}},\"id\":\"24173\",\"type\":\"Segment\"},{\"attributes\":{},\"id\":\"25113\",\"type\":\"Selection\"},{\"attributes\":{\"data_source\":{\"id\":\"24026\",\"type\":\"ColumnDataSource\"},\"glyph\":{\"id\":\"24027\",\"type\":\"Circle\"},\"hover_glyph\":null,\"muted_glyph\":null,\"nonselection_glyph\":{\"id\":\"24028\",\"type\":\"Circle\"},\"selection_glyph\":null,\"view\":{\"id\":\"24030\",\"type\":\"CDSView\"}},\"id\":\"24029\",\"type\":\"GlyphRenderer\"},{\"attributes\":{\"data_source\":{\"id\":\"24171\",\"type\":\"ColumnDataSource\"},\"glyph\":{\"id\":\"24172\",\"type\":\"Segment\"},\"hover_glyph\":null,\"muted_glyph\":null,\"nonselection_glyph\":{\"id\":\"24173\",\"type\":\"Segment\"},\"selection_glyph\":null,\"view\":{\"id\":\"24175\",\"type\":\"CDSView\"}},\"id\":\"24174\",\"type\":\"GlyphRenderer\"},{\"attributes\":{\"line_color\":{\"value\":\"#1f77b4\"},\"line_width\":{\"value\":2},\"x0\":{\"value\":9},\"x1\":{\"value\":9},\"y0\":{\"value\":0},\"y1\":{\"value\":0.16017913818359344}},\"id\":\"24102\",\"type\":\"Segment\"},{\"attributes\":{},\"id\":\"25114\",\"type\":\"UnionRenderers\"},{\"attributes\":{\"source\":{\"id\":\"24026\",\"type\":\"ColumnDataSource\"}},\"id\":\"24030\",\"type\":\"CDSView\"},{\"attributes\":{\"line_alpha\":{\"value\":0.1},\"line_color\":{\"value\":\"#1f77b4\"},\"line_width\":{\"value\":2},\"x0\":{\"value\":9},\"x1\":{\"value\":9},\"y0\":{\"value\":0},\"y1\":{\"value\":0.16017913818359344}},\"id\":\"24103\",\"type\":\"Segment\"},{\"attributes\":{\"source\":{\"id\":\"24171\",\"type\":\"ColumnDataSource\"}},\"id\":\"24175\",\"type\":\"CDSView\"},{\"attributes\":{},\"id\":\"25115\",\"type\":\"Selection\"},{\"attributes\":{\"data_source\":{\"id\":\"24101\",\"type\":\"ColumnDataSource\"},\"glyph\":{\"id\":\"24102\",\"type\":\"Segment\"},\"hover_glyph\":null,\"muted_glyph\":null,\"nonselection_glyph\":{\"id\":\"24103\",\"type\":\"Segment\"},\"selection_glyph\":null,\"view\":{\"id\":\"24105\",\"type\":\"CDSView\"}},\"id\":\"24104\",\"type\":\"GlyphRenderer\"},{\"attributes\":{\"callback\":null,\"data\":{},\"selected\":{\"id\":\"25103\",\"type\":\"Selection\"},\"selection_policy\":{\"id\":\"25102\",\"type\":\"UnionRenderers\"}},\"id\":\"24031\",\"type\":\"ColumnDataSource\"},{\"attributes\":{\"callback\":null,\"data\":{},\"selected\":{\"id\":\"25161\",\"type\":\"Selection\"},\"selection_policy\":{\"id\":\"25160\",\"type\":\"UnionRenderers\"}},\"id\":\"24176\",\"type\":\"ColumnDataSource\"},{\"attributes\":{},\"id\":\"25116\",\"type\":\"UnionRenderers\"},{\"attributes\":{\"line_color\":{\"value\":\"#1f77b4\"},\"line_width\":{\"value\":2},\"x0\":{\"value\":2},\"x1\":{\"value\":2},\"y0\":{\"value\":0},\"y1\":{\"value\":0.00018119812011718734}},\"id\":\"24032\",\"type\":\"Segment\"},{\"attributes\":{\"source\":{\"id\":\"24101\",\"type\":\"ColumnDataSource\"}},\"id\":\"24105\",\"type\":\"CDSView\"},{\"attributes\":{\"fill_color\":{\"value\":\"#1f77b4\"},\"line_color\":{\"value\":\"#1f77b4\"},\"size\":{\"units\":\"screen\",\"value\":16},\"x\":{\"value\":16},\"y\":{\"value\":0.004620552062988271}},\"id\":\"24177\",\"type\":\"Circle\"},{\"attributes\":{},\"id\":\"25117\",\"type\":\"Selection\"},{\"attributes\":{\"line_alpha\":{\"value\":0.1},\"line_color\":{\"value\":\"#1f77b4\"},\"line_width\":{\"value\":2},\"x0\":{\"value\":2},\"x1\":{\"value\":2},\"y0\":{\"value\":0},\"y1\":{\"value\":0.00018119812011718734}},\"id\":\"24033\",\"type\":\"Segment\"},{\"attributes\":{\"callback\":null,\"data\":{},\"selected\":{\"id\":\"25133\",\"type\":\"Selection\"},\"selection_policy\":{\"id\":\"25132\",\"type\":\"UnionRenderers\"}},\"id\":\"24106\",\"type\":\"ColumnDataSource\"},{\"attributes\":{\"fill_alpha\":{\"value\":0.1},\"fill_color\":{\"value\":\"#1f77b4\"},\"line_alpha\":{\"value\":0.1},\"line_color\":{\"value\":\"#1f77b4\"},\"size\":{\"units\":\"screen\",\"value\":16},\"x\":{\"value\":16},\"y\":{\"value\":0.004620552062988271}},\"id\":\"24178\",\"type\":\"Circle\"},{\"attributes\":{},\"id\":\"25118\",\"type\":\"UnionRenderers\"},{\"attributes\":{\"source\":{\"id\":\"24096\",\"type\":\"ColumnDataSource\"}},\"id\":\"24100\",\"type\":\"CDSView\"},{\"attributes\":{\"data_source\":{\"id\":\"24031\",\"type\":\"ColumnDataSource\"},\"glyph\":{\"id\":\"24032\",\"type\":\"Segment\"},\"hover_glyph\":null,\"muted_glyph\":null,\"nonselection_glyph\":{\"id\":\"24033\",\"type\":\"Segment\"},\"selection_glyph\":null,\"view\":{\"id\":\"24035\",\"type\":\"CDSView\"}},\"id\":\"24034\",\"type\":\"GlyphRenderer\"},{\"attributes\":{\"data_source\":{\"id\":\"24176\",\"type\":\"ColumnDataSource\"},\"glyph\":{\"id\":\"24177\",\"type\":\"Circle\"},\"hover_glyph\":null,\"muted_glyph\":null,\"nonselection_glyph\":{\"id\":\"24178\",\"type\":\"Circle\"},\"selection_glyph\":null,\"view\":{\"id\":\"24180\",\"type\":\"CDSView\"}},\"id\":\"24179\",\"type\":\"GlyphRenderer\"},{\"attributes\":{\"fill_color\":{\"value\":\"#1f77b4\"},\"line_color\":{\"value\":\"#1f77b4\"},\"size\":{\"units\":\"screen\",\"value\":16},\"x\":{\"value\":9},\"y\":{\"value\":0.16017913818359344}},\"id\":\"24107\",\"type\":\"Circle\"},{\"attributes\":{},\"id\":\"25119\",\"type\":\"Selection\"},{\"attributes\":{\"source\":{\"id\":\"24031\",\"type\":\"ColumnDataSource\"}},\"id\":\"24035\",\"type\":\"CDSView\"},{\"attributes\":{\"fill_alpha\":{\"value\":0.1},\"fill_color\":{\"value\":\"#1f77b4\"},\"line_alpha\":{\"value\":0.1},\"line_color\":{\"value\":\"#1f77b4\"},\"size\":{\"units\":\"screen\",\"value\":16},\"x\":{\"value\":9},\"y\":{\"value\":0.16017913818359344}},\"id\":\"24108\",\"type\":\"Circle\"},{\"attributes\":{\"source\":{\"id\":\"24176\",\"type\":\"ColumnDataSource\"}},\"id\":\"24180\",\"type\":\"CDSView\"},{\"attributes\":{},\"id\":\"25120\",\"type\":\"UnionRenderers\"},{\"attributes\":{\"data_source\":{\"id\":\"24106\",\"type\":\"ColumnDataSource\"},\"glyph\":{\"id\":\"24107\",\"type\":\"Circle\"},\"hover_glyph\":null,\"muted_glyph\":null,\"nonselection_glyph\":{\"id\":\"24108\",\"type\":\"Circle\"},\"selection_glyph\":null,\"view\":{\"id\":\"24110\",\"type\":\"CDSView\"}},\"id\":\"24109\",\"type\":\"GlyphRenderer\"},{\"attributes\":{\"callback\":null,\"data\":{},\"selected\":{\"id\":\"25163\",\"type\":\"Selection\"},\"selection_policy\":{\"id\":\"25162\",\"type\":\"UnionRenderers\"}},\"id\":\"24181\",\"type\":\"ColumnDataSource\"},{\"attributes\":{},\"id\":\"25121\",\"type\":\"Selection\"},{\"attributes\":{\"callback\":null,\"data\":{},\"selected\":{\"id\":\"25105\",\"type\":\"Selection\"},\"selection_policy\":{\"id\":\"25104\",\"type\":\"UnionRenderers\"}},\"id\":\"24036\",\"type\":\"ColumnDataSource\"},{\"attributes\":{\"fill_color\":{\"value\":\"#1f77b4\"},\"line_color\":{\"value\":\"#1f77b4\"},\"size\":{\"units\":\"screen\",\"value\":16},\"x\":{\"value\":2},\"y\":{\"value\":0.00018119812011718734}},\"id\":\"24037\",\"type\":\"Circle\"},{\"attributes\":{\"source\":{\"id\":\"24106\",\"type\":\"ColumnDataSource\"}},\"id\":\"24110\",\"type\":\"CDSView\"},{\"attributes\":{\"line_color\":{\"value\":\"#1f77b4\"},\"line_width\":{\"value\":2},\"x0\":{\"value\":17},\"x1\":{\"value\":17},\"y0\":{\"value\":0},\"y1\":{\"value\":0.0010871887207031235}},\"id\":\"24182\",\"type\":\"Segment\"},{\"attributes\":{},\"id\":\"25122\",\"type\":\"UnionRenderers\"},{\"attributes\":{\"fill_alpha\":{\"value\":0.1},\"fill_color\":{\"value\":\"#1f77b4\"},\"line_alpha\":{\"value\":0.1},\"line_color\":{\"value\":\"#1f77b4\"},\"size\":{\"units\":\"screen\",\"value\":16},\"x\":{\"value\":2},\"y\":{\"value\":0.00018119812011718734}},\"id\":\"24038\",\"type\":\"Circle\"},{\"attributes\":{\"callback\":null,\"data\":{},\"selected\":{\"id\":\"25135\",\"type\":\"Selection\"},\"selection_policy\":{\"id\":\"25134\",\"type\":\"UnionRenderers\"}},\"id\":\"24111\",\"type\":\"ColumnDataSource\"},{\"attributes\":{\"line_alpha\":{\"value\":0.1},\"line_color\":{\"value\":\"#1f77b4\"},\"line_width\":{\"value\":2},\"x0\":{\"value\":17},\"x1\":{\"value\":17},\"y0\":{\"value\":0},\"y1\":{\"value\":0.0010871887207031235}},\"id\":\"24183\",\"type\":\"Segment\"},{\"attributes\":{},\"id\":\"25123\",\"type\":\"Selection\"},{\"attributes\":{\"data_source\":{\"id\":\"24036\",\"type\":\"ColumnDataSource\"},\"glyph\":{\"id\":\"24037\",\"type\":\"Circle\"},\"hover_glyph\":null,\"muted_glyph\":null,\"nonselection_glyph\":{\"id\":\"24038\",\"type\":\"Circle\"},\"selection_glyph\":null,\"view\":{\"id\":\"24040\",\"type\":\"CDSView\"}},\"id\":\"24039\",\"type\":\"GlyphRenderer\"},{\"attributes\":{\"data_source\":{\"id\":\"24181\",\"type\":\"ColumnDataSource\"},\"glyph\":{\"id\":\"24182\",\"type\":\"Segment\"},\"hover_glyph\":null,\"muted_glyph\":null,\"nonselection_glyph\":{\"id\":\"24183\",\"type\":\"Segment\"},\"selection_glyph\":null,\"view\":{\"id\":\"24185\",\"type\":\"CDSView\"}},\"id\":\"24184\",\"type\":\"GlyphRenderer\"},{\"attributes\":{\"line_color\":{\"value\":\"#1f77b4\"},\"line_width\":{\"value\":2},\"x0\":{\"value\":10},\"x1\":{\"value\":10},\"y0\":{\"value\":0},\"y1\":{\"value\":0.17619705200195293}},\"id\":\"24112\",\"type\":\"Segment\"},{\"attributes\":{},\"id\":\"25124\",\"type\":\"UnionRenderers\"},{\"attributes\":{\"source\":{\"id\":\"24036\",\"type\":\"ColumnDataSource\"}},\"id\":\"24040\",\"type\":\"CDSView\"},{\"attributes\":{\"line_alpha\":{\"value\":0.1},\"line_color\":{\"value\":\"#1f77b4\"},\"line_width\":{\"value\":2},\"x0\":{\"value\":10},\"x1\":{\"value\":10},\"y0\":{\"value\":0},\"y1\":{\"value\":0.17619705200195293}},\"id\":\"24113\",\"type\":\"Segment\"},{\"attributes\":{\"source\":{\"id\":\"24181\",\"type\":\"ColumnDataSource\"}},\"id\":\"24185\",\"type\":\"CDSView\"},{\"attributes\":{},\"id\":\"25125\",\"type\":\"Selection\"},{\"attributes\":{\"data_source\":{\"id\":\"24111\",\"type\":\"ColumnDataSource\"},\"glyph\":{\"id\":\"24112\",\"type\":\"Segment\"},\"hover_glyph\":null,\"muted_glyph\":null,\"nonselection_glyph\":{\"id\":\"24113\",\"type\":\"Segment\"},\"selection_glyph\":null,\"view\":{\"id\":\"24115\",\"type\":\"CDSView\"}},\"id\":\"24114\",\"type\":\"GlyphRenderer\"},{\"attributes\":{\"callback\":null,\"data\":{},\"selected\":{\"id\":\"25107\",\"type\":\"Selection\"},\"selection_policy\":{\"id\":\"25106\",\"type\":\"UnionRenderers\"}},\"id\":\"24041\",\"type\":\"ColumnDataSource\"},{\"attributes\":{\"callback\":null,\"data\":{},\"selected\":{\"id\":\"25165\",\"type\":\"Selection\"},\"selection_policy\":{\"id\":\"25164\",\"type\":\"UnionRenderers\"}},\"id\":\"24186\",\"type\":\"ColumnDataSource\"},{\"attributes\":{},\"id\":\"25126\",\"type\":\"UnionRenderers\"},{\"attributes\":{\"line_color\":{\"value\":\"#1f77b4\"},\"line_width\":{\"value\":2},\"x0\":{\"value\":3},\"x1\":{\"value\":3},\"y0\":{\"value\":0},\"y1\":{\"value\":0.0010871887207031235}},\"id\":\"24042\",\"type\":\"Segment\"},{\"attributes\":{\"source\":{\"id\":\"24111\",\"type\":\"ColumnDataSource\"}},\"id\":\"24115\",\"type\":\"CDSView\"},{\"attributes\":{\"fill_color\":{\"value\":\"#1f77b4\"},\"line_color\":{\"value\":\"#1f77b4\"},\"size\":{\"units\":\"screen\",\"value\":16},\"x\":{\"value\":17},\"y\":{\"value\":0.0010871887207031235}},\"id\":\"24187\",\"type\":\"Circle\"},{\"attributes\":{},\"id\":\"25127\",\"type\":\"Selection\"},{\"attributes\":{\"line_alpha\":{\"value\":0.1},\"line_color\":{\"value\":\"#1f77b4\"},\"line_width\":{\"value\":2},\"x0\":{\"value\":3},\"x1\":{\"value\":3},\"y0\":{\"value\":0},\"y1\":{\"value\":0.0010871887207031235}},\"id\":\"24043\",\"type\":\"Segment\"},{\"attributes\":{\"callback\":null,\"data\":{},\"selected\":{\"id\":\"25137\",\"type\":\"Selection\"},\"selection_policy\":{\"id\":\"25136\",\"type\":\"UnionRenderers\"}},\"id\":\"24116\",\"type\":\"ColumnDataSource\"},{\"attributes\":{\"fill_alpha\":{\"value\":0.1},\"fill_color\":{\"value\":\"#1f77b4\"},\"line_alpha\":{\"value\":0.1},\"line_color\":{\"value\":\"#1f77b4\"},\"size\":{\"units\":\"screen\",\"value\":16},\"x\":{\"value\":17},\"y\":{\"value\":0.0010871887207031235}},\"id\":\"24188\",\"type\":\"Circle\"},{\"attributes\":{},\"id\":\"25112\",\"type\":\"UnionRenderers\"},{\"attributes\":{},\"id\":\"25128\",\"type\":\"UnionRenderers\"},{\"attributes\":{\"data_source\":{\"id\":\"24186\",\"type\":\"ColumnDataSource\"},\"glyph\":{\"id\":\"24187\",\"type\":\"Circle\"},\"hover_glyph\":null,\"muted_glyph\":null,\"nonselection_glyph\":{\"id\":\"24188\",\"type\":\"Circle\"},\"selection_glyph\":null,\"view\":{\"id\":\"24190\",\"type\":\"CDSView\"}},\"id\":\"24189\",\"type\":\"GlyphRenderer\"},{\"attributes\":{\"data_source\":{\"id\":\"24041\",\"type\":\"ColumnDataSource\"},\"glyph\":{\"id\":\"24042\",\"type\":\"Segment\"},\"hover_glyph\":null,\"muted_glyph\":null,\"nonselection_glyph\":{\"id\":\"24043\",\"type\":\"Segment\"},\"selection_glyph\":null,\"view\":{\"id\":\"24045\",\"type\":\"CDSView\"}},\"id\":\"24044\",\"type\":\"GlyphRenderer\"},{\"attributes\":{\"fill_color\":{\"value\":\"#1f77b4\"},\"line_color\":{\"value\":\"#1f77b4\"},\"size\":{\"units\":\"screen\",\"value\":16},\"x\":{\"value\":10},\"y\":{\"value\":0.17619705200195293}},\"id\":\"24117\",\"type\":\"Circle\"},{\"attributes\":{},\"id\":\"25129\",\"type\":\"Selection\"},{\"attributes\":{\"source\":{\"id\":\"24041\",\"type\":\"ColumnDataSource\"}},\"id\":\"24045\",\"type\":\"CDSView\"},{\"attributes\":{\"fill_alpha\":{\"value\":0.1},\"fill_color\":{\"value\":\"#1f77b4\"},\"line_alpha\":{\"value\":0.1},\"line_color\":{\"value\":\"#1f77b4\"},\"size\":{\"units\":\"screen\",\"value\":16},\"x\":{\"value\":10},\"y\":{\"value\":0.17619705200195293}},\"id\":\"24118\",\"type\":\"Circle\"},{\"attributes\":{\"source\":{\"id\":\"24186\",\"type\":\"ColumnDataSource\"}},\"id\":\"24190\",\"type\":\"CDSView\"},{\"attributes\":{},\"id\":\"25130\",\"type\":\"UnionRenderers\"},{\"attributes\":{\"data_source\":{\"id\":\"24116\",\"type\":\"ColumnDataSource\"},\"glyph\":{\"id\":\"24117\",\"type\":\"Circle\"},\"hover_glyph\":null,\"muted_glyph\":null,\"nonselection_glyph\":{\"id\":\"24118\",\"type\":\"Circle\"},\"selection_glyph\":null,\"view\":{\"id\":\"24120\",\"type\":\"CDSView\"}},\"id\":\"24119\",\"type\":\"GlyphRenderer\"},{\"attributes\":{\"callback\":null,\"data\":{},\"selected\":{\"id\":\"25109\",\"type\":\"Selection\"},\"selection_policy\":{\"id\":\"25108\",\"type\":\"UnionRenderers\"}},\"id\":\"24046\",\"type\":\"ColumnDataSource\"},{\"attributes\":{\"callback\":null,\"data\":{},\"selected\":{\"id\":\"25167\",\"type\":\"Selection\"},\"selection_policy\":{\"id\":\"25166\",\"type\":\"UnionRenderers\"}},\"id\":\"24191\",\"type\":\"ColumnDataSource\"},{\"attributes\":{},\"id\":\"25131\",\"type\":\"Selection\"},{\"attributes\":{\"fill_color\":{\"value\":\"#1f77b4\"},\"line_color\":{\"value\":\"#1f77b4\"},\"size\":{\"units\":\"screen\",\"value\":16},\"x\":{\"value\":3},\"y\":{\"value\":0.0010871887207031235}},\"id\":\"24047\",\"type\":\"Circle\"},{\"attributes\":{\"source\":{\"id\":\"24116\",\"type\":\"ColumnDataSource\"}},\"id\":\"24120\",\"type\":\"CDSView\"},{\"attributes\":{\"line_color\":{\"value\":\"#1f77b4\"},\"line_width\":{\"value\":2},\"x0\":{\"value\":18},\"x1\":{\"value\":18},\"y0\":{\"value\":0},\"y1\":{\"value\":0.00018119812011718734}},\"id\":\"24192\",\"type\":\"Segment\"},{\"attributes\":{},\"id\":\"25132\",\"type\":\"UnionRenderers\"},{\"attributes\":{\"fill_alpha\":{\"value\":0.1},\"fill_color\":{\"value\":\"#1f77b4\"},\"line_alpha\":{\"value\":0.1},\"line_color\":{\"value\":\"#1f77b4\"},\"size\":{\"units\":\"screen\",\"value\":16},\"x\":{\"value\":3},\"y\":{\"value\":0.0010871887207031235}},\"id\":\"24048\",\"type\":\"Circle\"},{\"attributes\":{\"callback\":null,\"data\":{},\"selected\":{\"id\":\"25139\",\"type\":\"Selection\"},\"selection_policy\":{\"id\":\"25138\",\"type\":\"UnionRenderers\"}},\"id\":\"24121\",\"type\":\"ColumnDataSource\"},{\"attributes\":{\"line_alpha\":{\"value\":0.1},\"line_color\":{\"value\":\"#1f77b4\"},\"line_width\":{\"value\":2},\"x0\":{\"value\":18},\"x1\":{\"value\":18},\"y0\":{\"value\":0},\"y1\":{\"value\":0.00018119812011718734}},\"id\":\"24193\",\"type\":\"Segment\"},{\"attributes\":{},\"id\":\"25133\",\"type\":\"Selection\"},{\"attributes\":{\"data_source\":{\"id\":\"24046\",\"type\":\"ColumnDataSource\"},\"glyph\":{\"id\":\"24047\",\"type\":\"Circle\"},\"hover_glyph\":null,\"muted_glyph\":null,\"nonselection_glyph\":{\"id\":\"24048\",\"type\":\"Circle\"},\"selection_glyph\":null,\"view\":{\"id\":\"24050\",\"type\":\"CDSView\"}},\"id\":\"24049\",\"type\":\"GlyphRenderer\"},{\"attributes\":{\"data_source\":{\"id\":\"24191\",\"type\":\"ColumnDataSource\"},\"glyph\":{\"id\":\"24192\",\"type\":\"Segment\"},\"hover_glyph\":null,\"muted_glyph\":null,\"nonselection_glyph\":{\"id\":\"24193\",\"type\":\"Segment\"},\"selection_glyph\":null,\"view\":{\"id\":\"24195\",\"type\":\"CDSView\"}},\"id\":\"24194\",\"type\":\"GlyphRenderer\"},{\"attributes\":{\"line_color\":{\"value\":\"#1f77b4\"},\"line_width\":{\"value\":2},\"x0\":{\"value\":11},\"x1\":{\"value\":11},\"y0\":{\"value\":0},\"y1\":{\"value\":0.16017913818359344}},\"id\":\"24122\",\"type\":\"Segment\"},{\"attributes\":{},\"id\":\"25134\",\"type\":\"UnionRenderers\"},{\"attributes\":{\"source\":{\"id\":\"24046\",\"type\":\"ColumnDataSource\"}},\"id\":\"24050\",\"type\":\"CDSView\"},{\"attributes\":{\"line_alpha\":{\"value\":0.1},\"line_color\":{\"value\":\"#1f77b4\"},\"line_width\":{\"value\":2},\"x0\":{\"value\":11},\"x1\":{\"value\":11},\"y0\":{\"value\":0},\"y1\":{\"value\":0.16017913818359344}},\"id\":\"24123\",\"type\":\"Segment\"},{\"attributes\":{\"source\":{\"id\":\"24191\",\"type\":\"ColumnDataSource\"}},\"id\":\"24195\",\"type\":\"CDSView\"},{\"attributes\":{},\"id\":\"25135\",\"type\":\"Selection\"},{\"attributes\":{\"data_source\":{\"id\":\"24121\",\"type\":\"ColumnDataSource\"},\"glyph\":{\"id\":\"24122\",\"type\":\"Segment\"},\"hover_glyph\":null,\"muted_glyph\":null,\"nonselection_glyph\":{\"id\":\"24123\",\"type\":\"Segment\"},\"selection_glyph\":null,\"view\":{\"id\":\"24125\",\"type\":\"CDSView\"}},\"id\":\"24124\",\"type\":\"GlyphRenderer\"},{\"attributes\":{\"callback\":null,\"data\":{},\"selected\":{\"id\":\"25111\",\"type\":\"Selection\"},\"selection_policy\":{\"id\":\"25110\",\"type\":\"UnionRenderers\"}},\"id\":\"24051\",\"type\":\"ColumnDataSource\"},{\"attributes\":{\"callback\":null,\"data\":{},\"selected\":{\"id\":\"25169\",\"type\":\"Selection\"},\"selection_policy\":{\"id\":\"25168\",\"type\":\"UnionRenderers\"}},\"id\":\"24196\",\"type\":\"ColumnDataSource\"},{\"attributes\":{},\"id\":\"25136\",\"type\":\"UnionRenderers\"},{\"attributes\":{\"line_color\":{\"value\":\"#1f77b4\"},\"line_width\":{\"value\":2},\"x0\":{\"value\":4},\"x1\":{\"value\":4},\"y0\":{\"value\":0},\"y1\":{\"value\":0.004620552062988271}},\"id\":\"24052\",\"type\":\"Segment\"},{\"attributes\":{\"source\":{\"id\":\"24121\",\"type\":\"ColumnDataSource\"}},\"id\":\"24125\",\"type\":\"CDSView\"},{\"attributes\":{\"fill_color\":{\"value\":\"#1f77b4\"},\"line_color\":{\"value\":\"#1f77b4\"},\"size\":{\"units\":\"screen\",\"value\":16},\"x\":{\"value\":18},\"y\":{\"value\":0.00018119812011718734}},\"id\":\"24197\",\"type\":\"Circle\"},{\"attributes\":{},\"id\":\"25137\",\"type\":\"Selection\"},{\"attributes\":{\"line_alpha\":{\"value\":0.1},\"line_color\":{\"value\":\"#1f77b4\"},\"line_width\":{\"value\":2},\"x0\":{\"value\":4},\"x1\":{\"value\":4},\"y0\":{\"value\":0},\"y1\":{\"value\":0.004620552062988271}},\"id\":\"24053\",\"type\":\"Segment\"},{\"attributes\":{\"callback\":null,\"data\":{},\"selected\":{\"id\":\"25141\",\"type\":\"Selection\"},\"selection_policy\":{\"id\":\"25140\",\"type\":\"UnionRenderers\"}},\"id\":\"24126\",\"type\":\"ColumnDataSource\"},{\"attributes\":{\"fill_alpha\":{\"value\":0.1},\"fill_color\":{\"value\":\"#1f77b4\"},\"line_alpha\":{\"value\":0.1},\"line_color\":{\"value\":\"#1f77b4\"},\"size\":{\"units\":\"screen\",\"value\":16},\"x\":{\"value\":18},\"y\":{\"value\":0.00018119812011718734}},\"id\":\"24198\",\"type\":\"Circle\"},{\"attributes\":{},\"id\":\"25138\",\"type\":\"UnionRenderers\"},{\"attributes\":{\"data_source\":{\"id\":\"24051\",\"type\":\"ColumnDataSource\"},\"glyph\":{\"id\":\"24052\",\"type\":\"Segment\"},\"hover_glyph\":null,\"muted_glyph\":null,\"nonselection_glyph\":{\"id\":\"24053\",\"type\":\"Segment\"},\"selection_glyph\":null,\"view\":{\"id\":\"24055\",\"type\":\"CDSView\"}},\"id\":\"24054\",\"type\":\"GlyphRenderer\"},{\"attributes\":{\"data_source\":{\"id\":\"24196\",\"type\":\"ColumnDataSource\"},\"glyph\":{\"id\":\"24197\",\"type\":\"Circle\"},\"hover_glyph\":null,\"muted_glyph\":null,\"nonselection_glyph\":{\"id\":\"24198\",\"type\":\"Circle\"},\"selection_glyph\":null,\"view\":{\"id\":\"24200\",\"type\":\"CDSView\"}},\"id\":\"24199\",\"type\":\"GlyphRenderer\"},{\"attributes\":{\"fill_color\":{\"value\":\"#1f77b4\"},\"line_color\":{\"value\":\"#1f77b4\"},\"size\":{\"units\":\"screen\",\"value\":16},\"x\":{\"value\":11},\"y\":{\"value\":0.16017913818359344}},\"id\":\"24127\",\"type\":\"Circle\"},{\"attributes\":{},\"id\":\"25139\",\"type\":\"Selection\"},{\"attributes\":{\"source\":{\"id\":\"24051\",\"type\":\"ColumnDataSource\"}},\"id\":\"24055\",\"type\":\"CDSView\"},{\"attributes\":{\"fill_alpha\":{\"value\":0.1},\"fill_color\":{\"value\":\"#1f77b4\"},\"line_alpha\":{\"value\":0.1},\"line_color\":{\"value\":\"#1f77b4\"},\"size\":{\"units\":\"screen\",\"value\":16},\"x\":{\"value\":11},\"y\":{\"value\":0.16017913818359344}},\"id\":\"24128\",\"type\":\"Circle\"},{\"attributes\":{\"source\":{\"id\":\"24196\",\"type\":\"ColumnDataSource\"}},\"id\":\"24200\",\"type\":\"CDSView\"},{\"attributes\":{},\"id\":\"25140\",\"type\":\"UnionRenderers\"},{\"attributes\":{\"data_source\":{\"id\":\"24126\",\"type\":\"ColumnDataSource\"},\"glyph\":{\"id\":\"24127\",\"type\":\"Circle\"},\"hover_glyph\":null,\"muted_glyph\":null,\"nonselection_glyph\":{\"id\":\"24128\",\"type\":\"Circle\"},\"selection_glyph\":null,\"view\":{\"id\":\"24130\",\"type\":\"CDSView\"}},\"id\":\"24129\",\"type\":\"GlyphRenderer\"},{\"attributes\":{\"callback\":null,\"data\":{},\"selected\":{\"id\":\"25113\",\"type\":\"Selection\"},\"selection_policy\":{\"id\":\"25112\",\"type\":\"UnionRenderers\"}},\"id\":\"24056\",\"type\":\"ColumnDataSource\"},{\"attributes\":{\"callback\":null,\"data\":{},\"selected\":{\"id\":\"25171\",\"type\":\"Selection\"},\"selection_policy\":{\"id\":\"25170\",\"type\":\"UnionRenderers\"}},\"id\":\"24201\",\"type\":\"ColumnDataSource\"},{\"attributes\":{},\"id\":\"25141\",\"type\":\"Selection\"},{\"attributes\":{\"fill_color\":{\"value\":\"#1f77b4\"},\"line_color\":{\"value\":\"#1f77b4\"},\"size\":{\"units\":\"screen\",\"value\":16},\"x\":{\"value\":4},\"y\":{\"value\":0.004620552062988271}},\"id\":\"24057\",\"type\":\"Circle\"},{\"attributes\":{\"source\":{\"id\":\"24126\",\"type\":\"ColumnDataSource\"}},\"id\":\"24130\",\"type\":\"CDSView\"},{\"attributes\":{\"line_color\":{\"value\":\"#1f77b4\"},\"line_width\":{\"value\":2},\"x0\":{\"value\":19},\"x1\":{\"value\":19},\"y0\":{\"value\":0},\"y1\":{\"value\":1.907348632812499e-05}},\"id\":\"24202\",\"type\":\"Segment\"},{\"attributes\":{},\"id\":\"25142\",\"type\":\"UnionRenderers\"},{\"attributes\":{\"fill_alpha\":{\"value\":0.1},\"fill_color\":{\"value\":\"#1f77b4\"},\"line_alpha\":{\"value\":0.1},\"line_color\":{\"value\":\"#1f77b4\"},\"size\":{\"units\":\"screen\",\"value\":16},\"x\":{\"value\":4},\"y\":{\"value\":0.004620552062988271}},\"id\":\"24058\",\"type\":\"Circle\"},{\"attributes\":{\"callback\":null,\"data\":{},\"selected\":{\"id\":\"25143\",\"type\":\"Selection\"},\"selection_policy\":{\"id\":\"25142\",\"type\":\"UnionRenderers\"}},\"id\":\"24131\",\"type\":\"ColumnDataSource\"},{\"attributes\":{\"line_alpha\":{\"value\":0.1},\"line_color\":{\"value\":\"#1f77b4\"},\"line_width\":{\"value\":2},\"x0\":{\"value\":19},\"x1\":{\"value\":19},\"y0\":{\"value\":0},\"y1\":{\"value\":1.907348632812499e-05}},\"id\":\"24203\",\"type\":\"Segment\"},{\"attributes\":{},\"id\":\"25143\",\"type\":\"Selection\"},{\"attributes\":{\"data_source\":{\"id\":\"24056\",\"type\":\"ColumnDataSource\"},\"glyph\":{\"id\":\"24057\",\"type\":\"Circle\"},\"hover_glyph\":null,\"muted_glyph\":null,\"nonselection_glyph\":{\"id\":\"24058\",\"type\":\"Circle\"},\"selection_glyph\":null,\"view\":{\"id\":\"24060\",\"type\":\"CDSView\"}},\"id\":\"24059\",\"type\":\"GlyphRenderer\"},{\"attributes\":{\"data_source\":{\"id\":\"24201\",\"type\":\"ColumnDataSource\"},\"glyph\":{\"id\":\"24202\",\"type\":\"Segment\"},\"hover_glyph\":null,\"muted_glyph\":null,\"nonselection_glyph\":{\"id\":\"24203\",\"type\":\"Segment\"},\"selection_glyph\":null,\"view\":{\"id\":\"24205\",\"type\":\"CDSView\"}},\"id\":\"24204\",\"type\":\"GlyphRenderer\"},{\"attributes\":{\"line_color\":{\"value\":\"#1f77b4\"},\"line_width\":{\"value\":2},\"x0\":{\"value\":12},\"x1\":{\"value\":12},\"y0\":{\"value\":0},\"y1\":{\"value\":0.12013435363769531}},\"id\":\"24132\",\"type\":\"Segment\"},{\"attributes\":{},\"id\":\"25144\",\"type\":\"UnionRenderers\"},{\"attributes\":{\"source\":{\"id\":\"24056\",\"type\":\"ColumnDataSource\"}},\"id\":\"24060\",\"type\":\"CDSView\"},{\"attributes\":{\"line_alpha\":{\"value\":0.1},\"line_color\":{\"value\":\"#1f77b4\"},\"line_width\":{\"value\":2},\"x0\":{\"value\":12},\"x1\":{\"value\":12},\"y0\":{\"value\":0},\"y1\":{\"value\":0.12013435363769531}},\"id\":\"24133\",\"type\":\"Segment\"},{\"attributes\":{\"source\":{\"id\":\"24201\",\"type\":\"ColumnDataSource\"}},\"id\":\"24205\",\"type\":\"CDSView\"},{\"attributes\":{},\"id\":\"25145\",\"type\":\"Selection\"},{\"attributes\":{\"data_source\":{\"id\":\"24131\",\"type\":\"ColumnDataSource\"},\"glyph\":{\"id\":\"24132\",\"type\":\"Segment\"},\"hover_glyph\":null,\"muted_glyph\":null,\"nonselection_glyph\":{\"id\":\"24133\",\"type\":\"Segment\"},\"selection_glyph\":null,\"view\":{\"id\":\"24135\",\"type\":\"CDSView\"}},\"id\":\"24134\",\"type\":\"GlyphRenderer\"},{\"attributes\":{\"callback\":null,\"data\":{},\"selected\":{\"id\":\"25173\",\"type\":\"Selection\"},\"selection_policy\":{\"id\":\"25172\",\"type\":\"UnionRenderers\"}},\"id\":\"24206\",\"type\":\"ColumnDataSource\"},{\"attributes\":{},\"id\":\"25146\",\"type\":\"UnionRenderers\"},{\"attributes\":{\"line_alpha\":{\"value\":0.1},\"line_color\":{\"value\":\"#1f77b4\"},\"line_width\":{\"value\":2},\"x0\":{\"value\":5},\"x1\":{\"value\":5},\"y0\":{\"value\":0},\"y1\":{\"value\":0.014785766601562429}},\"id\":\"24063\",\"type\":\"Segment\"},{\"attributes\":{\"source\":{\"id\":\"24131\",\"type\":\"ColumnDataSource\"}},\"id\":\"24135\",\"type\":\"CDSView\"},{\"attributes\":{\"fill_color\":{\"value\":\"#1f77b4\"},\"line_color\":{\"value\":\"#1f77b4\"},\"size\":{\"units\":\"screen\",\"value\":16},\"x\":{\"value\":19},\"y\":{\"value\":1.907348632812499e-05}},\"id\":\"24207\",\"type\":\"Circle\"},{\"attributes\":{},\"id\":\"25147\",\"type\":\"Selection\"},{\"attributes\":{\"data_source\":{\"id\":\"24061\",\"type\":\"ColumnDataSource\"},\"glyph\":{\"id\":\"24062\",\"type\":\"Segment\"},\"hover_glyph\":null,\"muted_glyph\":null,\"nonselection_glyph\":{\"id\":\"24063\",\"type\":\"Segment\"},\"selection_glyph\":null,\"view\":{\"id\":\"24065\",\"type\":\"CDSView\"}},\"id\":\"24064\",\"type\":\"GlyphRenderer\"},{\"attributes\":{\"callback\":null,\"data\":{},\"selected\":{\"id\":\"25145\",\"type\":\"Selection\"},\"selection_policy\":{\"id\":\"25144\",\"type\":\"UnionRenderers\"}},\"id\":\"24136\",\"type\":\"ColumnDataSource\"},{\"attributes\":{\"fill_alpha\":{\"value\":0.1},\"fill_color\":{\"value\":\"#1f77b4\"},\"line_alpha\":{\"value\":0.1},\"line_color\":{\"value\":\"#1f77b4\"},\"size\":{\"units\":\"screen\",\"value\":16},\"x\":{\"value\":19},\"y\":{\"value\":1.907348632812499e-05}},\"id\":\"24208\",\"type\":\"Circle\"},{\"attributes\":{},\"id\":\"25148\",\"type\":\"UnionRenderers\"},{\"attributes\":{\"line_color\":{\"value\":\"#1f77b4\"},\"line_width\":{\"value\":2},\"x0\":{\"value\":16},\"x1\":{\"value\":16},\"y0\":{\"value\":0},\"y1\":{\"value\":0.004620552062988271}},\"id\":\"24172\",\"type\":\"Segment\"},{\"attributes\":{\"data_source\":{\"id\":\"24206\",\"type\":\"ColumnDataSource\"},\"glyph\":{\"id\":\"24207\",\"type\":\"Circle\"},\"hover_glyph\":null,\"muted_glyph\":null,\"nonselection_glyph\":{\"id\":\"24208\",\"type\":\"Circle\"},\"selection_glyph\":null,\"view\":{\"id\":\"24210\",\"type\":\"CDSView\"}},\"id\":\"24209\",\"type\":\"GlyphRenderer\"},{\"attributes\":{\"source\":{\"id\":\"24061\",\"type\":\"ColumnDataSource\"}},\"id\":\"24065\",\"type\":\"CDSView\"},{\"attributes\":{\"fill_color\":{\"value\":\"#1f77b4\"},\"line_color\":{\"value\":\"#1f77b4\"},\"size\":{\"units\":\"screen\",\"value\":16},\"x\":{\"value\":12},\"y\":{\"value\":0.12013435363769531}},\"id\":\"24137\",\"type\":\"Circle\"},{\"attributes\":{},\"id\":\"25149\",\"type\":\"Selection\"},{\"attributes\":{},\"id\":\"25158\",\"type\":\"UnionRenderers\"},{\"attributes\":{\"callback\":null,\"data\":{},\"selected\":{\"id\":\"25117\",\"type\":\"Selection\"},\"selection_policy\":{\"id\":\"25116\",\"type\":\"UnionRenderers\"}},\"id\":\"24066\",\"type\":\"ColumnDataSource\"},{\"attributes\":{\"fill_alpha\":{\"value\":0.1},\"fill_color\":{\"value\":\"#1f77b4\"},\"line_alpha\":{\"value\":0.1},\"line_color\":{\"value\":\"#1f77b4\"},\"size\":{\"units\":\"screen\",\"value\":16},\"x\":{\"value\":12},\"y\":{\"value\":0.12013435363769531}},\"id\":\"24138\",\"type\":\"Circle\"},{\"attributes\":{\"source\":{\"id\":\"24206\",\"type\":\"ColumnDataSource\"}},\"id\":\"24210\",\"type\":\"CDSView\"},{\"attributes\":{},\"id\":\"25150\",\"type\":\"UnionRenderers\"},{\"attributes\":{\"data_source\":{\"id\":\"24136\",\"type\":\"ColumnDataSource\"},\"glyph\":{\"id\":\"24137\",\"type\":\"Circle\"},\"hover_glyph\":null,\"muted_glyph\":null,\"nonselection_glyph\":{\"id\":\"24138\",\"type\":\"Circle\"},\"selection_glyph\":null,\"view\":{\"id\":\"24140\",\"type\":\"CDSView\"}},\"id\":\"24139\",\"type\":\"GlyphRenderer\"},{\"attributes\":{\"fill_color\":{\"value\":\"#1f77b4\"},\"line_color\":{\"value\":\"#1f77b4\"},\"size\":{\"units\":\"screen\",\"value\":16},\"x\":{\"value\":5},\"y\":{\"value\":0.014785766601562429}},\"id\":\"24067\",\"type\":\"Circle\"},{\"attributes\":{\"callback\":null,\"data\":{},\"selected\":{\"id\":\"25175\",\"type\":\"Selection\"},\"selection_policy\":{\"id\":\"25174\",\"type\":\"UnionRenderers\"}},\"id\":\"24211\",\"type\":\"ColumnDataSource\"},{\"attributes\":{\"callback\":null,\"data\":{},\"selected\":{\"id\":\"25101\",\"type\":\"Selection\"},\"selection_policy\":{\"id\":\"25100\",\"type\":\"UnionRenderers\"}},\"id\":\"24026\",\"type\":\"ColumnDataSource\"},{\"attributes\":{},\"id\":\"25151\",\"type\":\"Selection\"},{\"attributes\":{},\"id\":\"23986\",\"type\":\"LinearScale\"},{\"attributes\":{\"fill_alpha\":{\"value\":0.1},\"fill_color\":{\"value\":\"#1f77b4\"},\"line_alpha\":{\"value\":0.1},\"line_color\":{\"value\":\"#1f77b4\"},\"size\":{\"units\":\"screen\",\"value\":16},\"x\":{\"value\":5},\"y\":{\"value\":0.014785766601562429}},\"id\":\"24068\",\"type\":\"Circle\"},{\"attributes\":{\"source\":{\"id\":\"24136\",\"type\":\"ColumnDataSource\"}},\"id\":\"24140\",\"type\":\"CDSView\"},{\"attributes\":{\"line_color\":{\"value\":\"#1f77b4\"},\"line_width\":{\"value\":2},\"x0\":{\"value\":20},\"x1\":{\"value\":20},\"y0\":{\"value\":0},\"y1\":{\"value\":9.5367431640625e-07}},\"id\":\"24212\",\"type\":\"Segment\"},{\"attributes\":{},\"id\":\"25152\",\"type\":\"UnionRenderers\"},{\"attributes\":{\"data_source\":{\"id\":\"24066\",\"type\":\"ColumnDataSource\"},\"glyph\":{\"id\":\"24067\",\"type\":\"Circle\"},\"hover_glyph\":null,\"muted_glyph\":null,\"nonselection_glyph\":{\"id\":\"24068\",\"type\":\"Circle\"},\"selection_glyph\":null,\"view\":{\"id\":\"24070\",\"type\":\"CDSView\"}},\"id\":\"24069\",\"type\":\"GlyphRenderer\"},{\"attributes\":{\"callback\":null,\"data\":{},\"selected\":{\"id\":\"25147\",\"type\":\"Selection\"},\"selection_policy\":{\"id\":\"25146\",\"type\":\"UnionRenderers\"}},\"id\":\"24141\",\"type\":\"ColumnDataSource\"},{\"attributes\":{\"line_alpha\":{\"value\":0.1},\"line_color\":{\"value\":\"#1f77b4\"},\"line_width\":{\"value\":2},\"x0\":{\"value\":20},\"x1\":{\"value\":20},\"y0\":{\"value\":0},\"y1\":{\"value\":9.5367431640625e-07}},\"id\":\"24213\",\"type\":\"Segment\"},{\"attributes\":{\"callback\":null},\"id\":\"23980\",\"type\":\"DataRange1d\"},{\"attributes\":{},\"id\":\"25153\",\"type\":\"Selection\"},{\"attributes\":{\"dimension\":1,\"ticker\":{\"id\":\"23994\",\"type\":\"BasicTicker\"}},\"id\":\"23997\",\"type\":\"Grid\"},{\"attributes\":{\"data_source\":{\"id\":\"24211\",\"type\":\"ColumnDataSource\"},\"glyph\":{\"id\":\"24212\",\"type\":\"Segment\"},\"hover_glyph\":null,\"muted_glyph\":null,\"nonselection_glyph\":{\"id\":\"24213\",\"type\":\"Segment\"},\"selection_glyph\":null,\"view\":{\"id\":\"24215\",\"type\":\"CDSView\"}},\"id\":\"24214\",\"type\":\"GlyphRenderer\"},{\"attributes\":{\"source\":{\"id\":\"24066\",\"type\":\"ColumnDataSource\"}},\"id\":\"24070\",\"type\":\"CDSView\"},{\"attributes\":{\"line_color\":{\"value\":\"#1f77b4\"},\"line_width\":{\"value\":2},\"x0\":{\"value\":13},\"x1\":{\"value\":13},\"y0\":{\"value\":0},\"y1\":{\"value\":0.07392883300781268}},\"id\":\"24142\",\"type\":\"Segment\"},{\"attributes\":{},\"id\":\"25154\",\"type\":\"UnionRenderers\"},{\"attributes\":{},\"id\":\"23984\",\"type\":\"LinearScale\"},{\"attributes\":{\"callback\":null,\"data\":{},\"selected\":{\"id\":\"25119\",\"type\":\"Selection\"},\"selection_policy\":{\"id\":\"25118\",\"type\":\"UnionRenderers\"}},\"id\":\"24071\",\"type\":\"ColumnDataSource\"},{\"attributes\":{\"line_alpha\":{\"value\":0.1},\"line_color\":{\"value\":\"#1f77b4\"},\"line_width\":{\"value\":2},\"x0\":{\"value\":13},\"x1\":{\"value\":13},\"y0\":{\"value\":0},\"y1\":{\"value\":0.07392883300781268}},\"id\":\"24143\",\"type\":\"Segment\"},{\"attributes\":{\"source\":{\"id\":\"24021\",\"type\":\"ColumnDataSource\"}},\"id\":\"24025\",\"type\":\"CDSView\"},{\"attributes\":{\"source\":{\"id\":\"24211\",\"type\":\"ColumnDataSource\"}},\"id\":\"24215\",\"type\":\"CDSView\"},{\"attributes\":{},\"id\":\"25155\",\"type\":\"Selection\"},{\"attributes\":{\"data_source\":{\"id\":\"24141\",\"type\":\"ColumnDataSource\"},\"glyph\":{\"id\":\"24142\",\"type\":\"Segment\"},\"hover_glyph\":null,\"muted_glyph\":null,\"nonselection_glyph\":{\"id\":\"24143\",\"type\":\"Segment\"},\"selection_glyph\":null,\"view\":{\"id\":\"24145\",\"type\":\"CDSView\"}},\"id\":\"24144\",\"type\":\"GlyphRenderer\"},{\"attributes\":{\"line_color\":{\"value\":\"#1f77b4\"},\"line_width\":{\"value\":2},\"x0\":{\"value\":6},\"x1\":{\"value\":6},\"y0\":{\"value\":0},\"y1\":{\"value\":0.03696441650390614}},\"id\":\"24072\",\"type\":\"Segment\"},{\"attributes\":{\"callback\":null,\"data\":{},\"selected\":{\"id\":\"25177\",\"type\":\"Selection\"},\"selection_policy\":{\"id\":\"25176\",\"type\":\"UnionRenderers\"}},\"id\":\"24216\",\"type\":\"ColumnDataSource\"},{\"attributes\":{\"line_alpha\":{\"value\":0.1},\"line_color\":{\"value\":\"#1f77b4\"},\"line_width\":{\"value\":2},\"x0\":{\"value\":1},\"x1\":{\"value\":1},\"y0\":{\"value\":0},\"y1\":{\"value\":1.907348632812499e-05}},\"id\":\"24023\",\"type\":\"Segment\"},{\"attributes\":{},\"id\":\"25156\",\"type\":\"UnionRenderers\"},{\"attributes\":{\"line_alpha\":{\"value\":0.1},\"line_color\":{\"value\":\"#1f77b4\"},\"line_width\":{\"value\":2},\"x0\":{\"value\":6},\"x1\":{\"value\":6},\"y0\":{\"value\":0},\"y1\":{\"value\":0.03696441650390614}},\"id\":\"24073\",\"type\":\"Segment\"},{\"attributes\":{\"source\":{\"id\":\"24141\",\"type\":\"ColumnDataSource\"}},\"id\":\"24145\",\"type\":\"CDSView\"},{\"attributes\":{\"fill_color\":{\"value\":\"#1f77b4\"},\"line_color\":{\"value\":\"#1f77b4\"},\"size\":{\"units\":\"screen\",\"value\":16},\"x\":{\"value\":20},\"y\":{\"value\":9.5367431640625e-07}},\"id\":\"24217\",\"type\":\"Circle\"},{\"attributes\":{\"data_source\":{\"id\":\"24021\",\"type\":\"ColumnDataSource\"},\"glyph\":{\"id\":\"24022\",\"type\":\"Segment\"},\"hover_glyph\":null,\"muted_glyph\":null,\"nonselection_glyph\":{\"id\":\"24023\",\"type\":\"Segment\"},\"selection_glyph\":null,\"view\":{\"id\":\"24025\",\"type\":\"CDSView\"}},\"id\":\"24024\",\"type\":\"GlyphRenderer\"},{\"attributes\":{},\"id\":\"25157\",\"type\":\"Selection\"},{\"attributes\":{\"data_source\":{\"id\":\"24071\",\"type\":\"ColumnDataSource\"},\"glyph\":{\"id\":\"24072\",\"type\":\"Segment\"},\"hover_glyph\":null,\"muted_glyph\":null,\"nonselection_glyph\":{\"id\":\"24073\",\"type\":\"Segment\"},\"selection_glyph\":null,\"view\":{\"id\":\"24075\",\"type\":\"CDSView\"}},\"id\":\"24074\",\"type\":\"GlyphRenderer\"},{\"attributes\":{\"callback\":null,\"data\":{},\"selected\":{\"id\":\"25149\",\"type\":\"Selection\"},\"selection_policy\":{\"id\":\"25148\",\"type\":\"UnionRenderers\"}},\"id\":\"24146\",\"type\":\"ColumnDataSource\"},{\"attributes\":{\"fill_alpha\":{\"value\":0.1},\"fill_color\":{\"value\":\"#1f77b4\"},\"line_alpha\":{\"value\":0.1},\"line_color\":{\"value\":\"#1f77b4\"},\"size\":{\"units\":\"screen\",\"value\":16},\"x\":{\"value\":20},\"y\":{\"value\":9.5367431640625e-07}},\"id\":\"24218\",\"type\":\"Circle\"},{\"attributes\":{\"line_color\":{\"value\":\"#1f77b4\"},\"line_width\":{\"value\":2},\"x0\":{\"value\":1},\"x1\":{\"value\":1},\"y0\":{\"value\":0},\"y1\":{\"value\":1.907348632812499e-05}},\"id\":\"24022\",\"type\":\"Segment\"},{\"attributes\":{},\"id\":\"25159\",\"type\":\"Selection\"},{\"attributes\":{\"data_source\":{\"id\":\"24216\",\"type\":\"ColumnDataSource\"},\"glyph\":{\"id\":\"24217\",\"type\":\"Circle\"},\"hover_glyph\":null,\"muted_glyph\":null,\"nonselection_glyph\":{\"id\":\"24218\",\"type\":\"Circle\"},\"selection_glyph\":null,\"view\":{\"id\":\"24220\",\"type\":\"CDSView\"}},\"id\":\"24219\",\"type\":\"GlyphRenderer\"},{\"attributes\":{},\"id\":\"23994\",\"type\":\"BasicTicker\"},{\"attributes\":{\"source\":{\"id\":\"24071\",\"type\":\"ColumnDataSource\"}},\"id\":\"24075\",\"type\":\"CDSView\"},{\"attributes\":{\"fill_color\":{\"value\":\"#1f77b4\"},\"line_color\":{\"value\":\"#1f77b4\"},\"size\":{\"units\":\"screen\",\"value\":16},\"x\":{\"value\":13},\"y\":{\"value\":0.07392883300781268}},\"id\":\"24147\",\"type\":\"Circle\"},{\"attributes\":{},\"id\":\"25160\",\"type\":\"UnionRenderers\"},{\"attributes\":{\"line_color\":{\"value\":\"#1f77b4\"},\"line_width\":{\"value\":2},\"x0\":{\"value\":5},\"x1\":{\"value\":5},\"y0\":{\"value\":0},\"y1\":{\"value\":0.014785766601562429}},\"id\":\"24062\",\"type\":\"Segment\"},{\"attributes\":{\"callback\":null,\"data\":{},\"selected\":{\"id\":\"25121\",\"type\":\"Selection\"},\"selection_policy\":{\"id\":\"25120\",\"type\":\"UnionRenderers\"}},\"id\":\"24076\",\"type\":\"ColumnDataSource\"},{\"attributes\":{\"fill_alpha\":{\"value\":0.1},\"fill_color\":{\"value\":\"#1f77b4\"},\"line_alpha\":{\"value\":0.1},\"line_color\":{\"value\":\"#1f77b4\"},\"size\":{\"units\":\"screen\",\"value\":16},\"x\":{\"value\":13},\"y\":{\"value\":0.07392883300781268}},\"id\":\"24148\",\"type\":\"Circle\"},{\"attributes\":{\"source\":{\"id\":\"24216\",\"type\":\"ColumnDataSource\"}},\"id\":\"24220\",\"type\":\"CDSView\"},{\"attributes\":{},\"id\":\"25161\",\"type\":\"Selection\"},{\"attributes\":{\"data_source\":{\"id\":\"24146\",\"type\":\"ColumnDataSource\"},\"glyph\":{\"id\":\"24147\",\"type\":\"Circle\"},\"hover_glyph\":null,\"muted_glyph\":null,\"nonselection_glyph\":{\"id\":\"24148\",\"type\":\"Circle\"},\"selection_glyph\":null,\"view\":{\"id\":\"24150\",\"type\":\"CDSView\"}},\"id\":\"24149\",\"type\":\"GlyphRenderer\"},{\"attributes\":{\"text\":\"\"},\"id\":\"25089\",\"type\":\"Title\"},{\"attributes\":{\"fill_color\":{\"value\":\"#1f77b4\"},\"line_color\":{\"value\":\"#1f77b4\"},\"size\":{\"units\":\"screen\",\"value\":16},\"x\":{\"value\":6},\"y\":{\"value\":0.03696441650390614}},\"id\":\"24077\",\"type\":\"Circle\"},{\"attributes\":{\"callback\":null,\"data\":{},\"selected\":{\"id\":\"25115\",\"type\":\"Selection\"},\"selection_policy\":{\"id\":\"25114\",\"type\":\"UnionRenderers\"}},\"id\":\"24061\",\"type\":\"ColumnDataSource\"},{\"attributes\":{},\"id\":\"25162\",\"type\":\"UnionRenderers\"},{\"attributes\":{\"ticks\":[0,1,2,3,4,5,6,7,8,9,10,11,12,13,14,15,16,17,18,19,20]},\"id\":\"24221\",\"type\":\"FixedTicker\"},{\"attributes\":{\"fill_alpha\":{\"value\":0.1},\"fill_color\":{\"value\":\"#1f77b4\"},\"line_alpha\":{\"value\":0.1},\"line_color\":{\"value\":\"#1f77b4\"},\"size\":{\"units\":\"screen\",\"value\":16},\"x\":{\"value\":6},\"y\":{\"value\":0.03696441650390614}},\"id\":\"24078\",\"type\":\"Circle\"},{\"attributes\":{\"source\":{\"id\":\"24146\",\"type\":\"ColumnDataSource\"}},\"id\":\"24150\",\"type\":\"CDSView\"},{\"attributes\":{},\"id\":\"25163\",\"type\":\"Selection\"},{\"attributes\":{\"active_drag\":\"auto\",\"active_inspect\":\"auto\",\"active_multi\":null,\"active_scroll\":\"auto\",\"active_tap\":\"auto\",\"tools\":[{\"id\":\"23998\",\"type\":\"PanTool\"},{\"id\":\"23999\",\"type\":\"WheelZoomTool\"},{\"id\":\"24000\",\"type\":\"BoxZoomTool\"},{\"id\":\"24001\",\"type\":\"SaveTool\"},{\"id\":\"24002\",\"type\":\"ResetTool\"},{\"id\":\"24003\",\"type\":\"HelpTool\"}]},\"id\":\"24004\",\"type\":\"Toolbar\"},{\"attributes\":{\"data_source\":{\"id\":\"24076\",\"type\":\"ColumnDataSource\"},\"glyph\":{\"id\":\"24077\",\"type\":\"Circle\"},\"hover_glyph\":null,\"muted_glyph\":null,\"nonselection_glyph\":{\"id\":\"24078\",\"type\":\"Circle\"},\"selection_glyph\":null,\"view\":{\"id\":\"24080\",\"type\":\"CDSView\"}},\"id\":\"24079\",\"type\":\"GlyphRenderer\"},{\"attributes\":{\"callback\":null,\"data\":{},\"selected\":{\"id\":\"25151\",\"type\":\"Selection\"},\"selection_policy\":{\"id\":\"25150\",\"type\":\"UnionRenderers\"}},\"id\":\"24151\",\"type\":\"ColumnDataSource\"},{\"attributes\":{},\"id\":\"25092\",\"type\":\"BasicTickFormatter\"},{\"attributes\":{},\"id\":\"23998\",\"type\":\"PanTool\"},{\"attributes\":{},\"id\":\"25164\",\"type\":\"UnionRenderers\"},{\"attributes\":{},\"id\":\"25091\",\"type\":\"BasicTickFormatter\"},{\"attributes\":{\"source\":{\"id\":\"24076\",\"type\":\"ColumnDataSource\"}},\"id\":\"24080\",\"type\":\"CDSView\"},{\"attributes\":{\"line_color\":{\"value\":\"#1f77b4\"},\"line_width\":{\"value\":2},\"x0\":{\"value\":14},\"x1\":{\"value\":14},\"y0\":{\"value\":0},\"y1\":{\"value\":0.03696441650390614}},\"id\":\"24152\",\"type\":\"Segment\"},{\"attributes\":{},\"id\":\"23999\",\"type\":\"WheelZoomTool\"},{\"attributes\":{},\"id\":\"25165\",\"type\":\"Selection\"},{\"attributes\":{\"callback\":null,\"data\":{},\"selected\":{\"id\":\"25123\",\"type\":\"Selection\"},\"selection_policy\":{\"id\":\"25122\",\"type\":\"UnionRenderers\"}},\"id\":\"24081\",\"type\":\"ColumnDataSource\"},{\"attributes\":{\"line_alpha\":{\"value\":0.1},\"line_color\":{\"value\":\"#1f77b4\"},\"line_width\":{\"value\":2},\"x0\":{\"value\":14},\"x1\":{\"value\":14},\"y0\":{\"value\":0},\"y1\":{\"value\":0.03696441650390614}},\"id\":\"24153\",\"type\":\"Segment\"},{\"attributes\":{\"bottom_units\":\"screen\",\"fill_alpha\":{\"value\":0.5},\"fill_color\":{\"value\":\"lightgrey\"},\"left_units\":\"screen\",\"level\":\"overlay\",\"line_alpha\":{\"value\":1.0},\"line_color\":{\"value\":\"black\"},\"line_dash\":[4,4],\"line_width\":{\"value\":2},\"render_mode\":\"css\",\"right_units\":\"screen\",\"top_units\":\"screen\"},\"id\":\"25093\",\"type\":\"BoxAnnotation\"},{\"attributes\":{\"overlay\":{\"id\":\"25093\",\"type\":\"BoxAnnotation\"}},\"id\":\"24000\",\"type\":\"BoxZoomTool\"},{\"attributes\":{},\"id\":\"25166\",\"type\":\"UnionRenderers\"},{\"attributes\":{\"data_source\":{\"id\":\"24151\",\"type\":\"ColumnDataSource\"},\"glyph\":{\"id\":\"24152\",\"type\":\"Segment\"},\"hover_glyph\":null,\"muted_glyph\":null,\"nonselection_glyph\":{\"id\":\"24153\",\"type\":\"Segment\"},\"selection_glyph\":null,\"view\":{\"id\":\"24155\",\"type\":\"CDSView\"}},\"id\":\"24154\",\"type\":\"GlyphRenderer\"},{\"attributes\":{\"line_color\":{\"value\":\"#1f77b4\"},\"line_width\":{\"value\":2},\"x0\":{\"value\":7},\"x1\":{\"value\":7},\"y0\":{\"value\":0},\"y1\":{\"value\":0.07392883300781268}},\"id\":\"24082\",\"type\":\"Segment\"},{\"attributes\":{},\"id\":\"25094\",\"type\":\"UnionRenderers\"},{\"attributes\":{},\"id\":\"24001\",\"type\":\"SaveTool\"},{\"attributes\":{},\"id\":\"25167\",\"type\":\"Selection\"},{\"attributes\":{\"line_alpha\":{\"value\":0.1},\"line_color\":{\"value\":\"#1f77b4\"},\"line_width\":{\"value\":2},\"x0\":{\"value\":7},\"x1\":{\"value\":7},\"y0\":{\"value\":0},\"y1\":{\"value\":0.07392883300781268}},\"id\":\"24083\",\"type\":\"Segment\"},{\"attributes\":{\"source\":{\"id\":\"24151\",\"type\":\"ColumnDataSource\"}},\"id\":\"24155\",\"type\":\"CDSView\"},{\"attributes\":{},\"id\":\"25095\",\"type\":\"Selection\"},{\"attributes\":{},\"id\":\"24002\",\"type\":\"ResetTool\"},{\"attributes\":{\"callback\":null,\"data\":{},\"selected\":{\"id\":\"25095\",\"type\":\"Selection\"},\"selection_policy\":{\"id\":\"25094\",\"type\":\"UnionRenderers\"}},\"id\":\"24011\",\"type\":\"ColumnDataSource\"},{\"attributes\":{},\"id\":\"25168\",\"type\":\"UnionRenderers\"},{\"attributes\":{\"data_source\":{\"id\":\"24081\",\"type\":\"ColumnDataSource\"},\"glyph\":{\"id\":\"24082\",\"type\":\"Segment\"},\"hover_glyph\":null,\"muted_glyph\":null,\"nonselection_glyph\":{\"id\":\"24083\",\"type\":\"Segment\"},\"selection_glyph\":null,\"view\":{\"id\":\"24085\",\"type\":\"CDSView\"}},\"id\":\"24084\",\"type\":\"GlyphRenderer\"},{\"attributes\":{\"callback\":null,\"data\":{},\"selected\":{\"id\":\"25153\",\"type\":\"Selection\"},\"selection_policy\":{\"id\":\"25152\",\"type\":\"UnionRenderers\"}},\"id\":\"24156\",\"type\":\"ColumnDataSource\"},{\"attributes\":{},\"id\":\"25096\",\"type\":\"UnionRenderers\"},{\"attributes\":{},\"id\":\"24003\",\"type\":\"HelpTool\"},{\"attributes\":{},\"id\":\"25169\",\"type\":\"Selection\"},{\"attributes\":{\"source\":{\"id\":\"24081\",\"type\":\"ColumnDataSource\"}},\"id\":\"24085\",\"type\":\"CDSView\"},{\"attributes\":{\"fill_color\":{\"value\":\"#1f77b4\"},\"line_color\":{\"value\":\"#1f77b4\"},\"size\":{\"units\":\"screen\",\"value\":16},\"x\":{\"value\":14},\"y\":{\"value\":0.03696441650390614}},\"id\":\"24157\",\"type\":\"Circle\"},{\"attributes\":{},\"id\":\"25097\",\"type\":\"Selection\"},{\"attributes\":{},\"id\":\"25170\",\"type\":\"UnionRenderers\"},{\"attributes\":{\"line_color\":{\"value\":\"#1f77b4\"},\"line_width\":{\"value\":2},\"x0\":{\"value\":0},\"x1\":{\"value\":0},\"y0\":{\"value\":0},\"y1\":{\"value\":9.5367431640625e-07}},\"id\":\"24012\",\"type\":\"Segment\"},{\"attributes\":{\"callback\":null,\"data\":{},\"selected\":{\"id\":\"25125\",\"type\":\"Selection\"},\"selection_policy\":{\"id\":\"25124\",\"type\":\"UnionRenderers\"}},\"id\":\"24086\",\"type\":\"ColumnDataSource\"},{\"attributes\":{\"fill_alpha\":{\"value\":0.1},\"fill_color\":{\"value\":\"#1f77b4\"},\"line_alpha\":{\"value\":0.1},\"line_color\":{\"value\":\"#1f77b4\"},\"size\":{\"units\":\"screen\",\"value\":16},\"x\":{\"value\":14},\"y\":{\"value\":0.03696441650390614}},\"id\":\"24158\",\"type\":\"Circle\"},{\"attributes\":{\"line_alpha\":{\"value\":0.1},\"line_color\":{\"value\":\"#1f77b4\"},\"line_width\":{\"value\":2},\"x0\":{\"value\":0},\"x1\":{\"value\":0},\"y0\":{\"value\":0},\"y1\":{\"value\":9.5367431640625e-07}},\"id\":\"24013\",\"type\":\"Segment\"},{\"attributes\":{},\"id\":\"25098\",\"type\":\"UnionRenderers\"},{\"attributes\":{},\"id\":\"25171\",\"type\":\"Selection\"},{\"attributes\":{\"data_source\":{\"id\":\"24156\",\"type\":\"ColumnDataSource\"},\"glyph\":{\"id\":\"24157\",\"type\":\"Circle\"},\"hover_glyph\":null,\"muted_glyph\":null,\"nonselection_glyph\":{\"id\":\"24158\",\"type\":\"Circle\"},\"selection_glyph\":null,\"view\":{\"id\":\"24160\",\"type\":\"CDSView\"}},\"id\":\"24159\",\"type\":\"GlyphRenderer\"},{\"attributes\":{\"fill_color\":{\"value\":\"#1f77b4\"},\"line_color\":{\"value\":\"#1f77b4\"},\"size\":{\"units\":\"screen\",\"value\":16},\"x\":{\"value\":7},\"y\":{\"value\":0.07392883300781268}},\"id\":\"24087\",\"type\":\"Circle\"},{\"attributes\":{},\"id\":\"25099\",\"type\":\"Selection\"},{\"attributes\":{},\"id\":\"25172\",\"type\":\"UnionRenderers\"},{\"attributes\":{\"data_source\":{\"id\":\"24011\",\"type\":\"ColumnDataSource\"},\"glyph\":{\"id\":\"24012\",\"type\":\"Segment\"},\"hover_glyph\":null,\"muted_glyph\":null,\"nonselection_glyph\":{\"id\":\"24013\",\"type\":\"Segment\"},\"selection_glyph\":null,\"view\":{\"id\":\"24015\",\"type\":\"CDSView\"}},\"id\":\"24014\",\"type\":\"GlyphRenderer\"},{\"attributes\":{\"fill_alpha\":{\"value\":0.1},\"fill_color\":{\"value\":\"#1f77b4\"},\"line_alpha\":{\"value\":0.1},\"line_color\":{\"value\":\"#1f77b4\"},\"size\":{\"units\":\"screen\",\"value\":16},\"x\":{\"value\":7},\"y\":{\"value\":0.07392883300781268}},\"id\":\"24088\",\"type\":\"Circle\"},{\"attributes\":{\"source\":{\"id\":\"24156\",\"type\":\"ColumnDataSource\"}},\"id\":\"24160\",\"type\":\"CDSView\"},{\"attributes\":{},\"id\":\"25100\",\"type\":\"UnionRenderers\"},{\"attributes\":{},\"id\":\"25173\",\"type\":\"Selection\"},{\"attributes\":{\"data_source\":{\"id\":\"24086\",\"type\":\"ColumnDataSource\"},\"glyph\":{\"id\":\"24087\",\"type\":\"Circle\"},\"hover_glyph\":null,\"muted_glyph\":null,\"nonselection_glyph\":{\"id\":\"24088\",\"type\":\"Circle\"},\"selection_glyph\":null,\"view\":{\"id\":\"24090\",\"type\":\"CDSView\"}},\"id\":\"24089\",\"type\":\"GlyphRenderer\"},{\"attributes\":{\"source\":{\"id\":\"24011\",\"type\":\"ColumnDataSource\"}},\"id\":\"24015\",\"type\":\"CDSView\"},{\"attributes\":{\"callback\":null,\"data\":{},\"selected\":{\"id\":\"25155\",\"type\":\"Selection\"},\"selection_policy\":{\"id\":\"25154\",\"type\":\"UnionRenderers\"}},\"id\":\"24161\",\"type\":\"ColumnDataSource\"},{\"attributes\":{},\"id\":\"25101\",\"type\":\"Selection\"},{\"attributes\":{},\"id\":\"25174\",\"type\":\"UnionRenderers\"},{\"attributes\":{\"callback\":null,\"data\":{},\"selected\":{\"id\":\"25097\",\"type\":\"Selection\"},\"selection_policy\":{\"id\":\"25096\",\"type\":\"UnionRenderers\"}},\"id\":\"24016\",\"type\":\"ColumnDataSource\"},{\"attributes\":{\"source\":{\"id\":\"24086\",\"type\":\"ColumnDataSource\"}},\"id\":\"24090\",\"type\":\"CDSView\"},{\"attributes\":{\"line_color\":{\"value\":\"#1f77b4\"},\"line_width\":{\"value\":2},\"x0\":{\"value\":15},\"x1\":{\"value\":15},\"y0\":{\"value\":0},\"y1\":{\"value\":0.014785766601562429}},\"id\":\"24162\",\"type\":\"Segment\"},{\"attributes\":{},\"id\":\"25102\",\"type\":\"UnionRenderers\"},{\"attributes\":{},\"id\":\"25175\",\"type\":\"Selection\"},{\"attributes\":{\"fill_color\":{\"value\":\"#1f77b4\"},\"line_color\":{\"value\":\"#1f77b4\"},\"size\":{\"units\":\"screen\",\"value\":16},\"x\":{\"value\":0},\"y\":{\"value\":9.5367431640625e-07}},\"id\":\"24017\",\"type\":\"Circle\"},{\"attributes\":{\"callback\":null,\"data\":{},\"selected\":{\"id\":\"25127\",\"type\":\"Selection\"},\"selection_policy\":{\"id\":\"25126\",\"type\":\"UnionRenderers\"}},\"id\":\"24091\",\"type\":\"ColumnDataSource\"},{\"attributes\":{\"line_alpha\":{\"value\":0.1},\"line_color\":{\"value\":\"#1f77b4\"},\"line_width\":{\"value\":2},\"x0\":{\"value\":15},\"x1\":{\"value\":15},\"y0\":{\"value\":0},\"y1\":{\"value\":0.014785766601562429}},\"id\":\"24163\",\"type\":\"Segment\"},{\"attributes\":{},\"id\":\"25103\",\"type\":\"Selection\"},{\"attributes\":{},\"id\":\"25176\",\"type\":\"UnionRenderers\"},{\"attributes\":{\"data_source\":{\"id\":\"24161\",\"type\":\"ColumnDataSource\"},\"glyph\":{\"id\":\"24162\",\"type\":\"Segment\"},\"hover_glyph\":null,\"muted_glyph\":null,\"nonselection_glyph\":{\"id\":\"24163\",\"type\":\"Segment\"},\"selection_glyph\":null,\"view\":{\"id\":\"24165\",\"type\":\"CDSView\"}},\"id\":\"24164\",\"type\":\"GlyphRenderer\"},{\"attributes\":{\"fill_alpha\":{\"value\":0.1},\"fill_color\":{\"value\":\"#1f77b4\"},\"line_alpha\":{\"value\":0.1},\"line_color\":{\"value\":\"#1f77b4\"},\"size\":{\"units\":\"screen\",\"value\":16},\"x\":{\"value\":0},\"y\":{\"value\":9.5367431640625e-07}},\"id\":\"24018\",\"type\":\"Circle\"},{\"attributes\":{\"line_color\":{\"value\":\"#1f77b4\"},\"line_width\":{\"value\":2},\"x0\":{\"value\":8},\"x1\":{\"value\":8},\"y0\":{\"value\":0},\"y1\":{\"value\":0.12013435363769531}},\"id\":\"24092\",\"type\":\"Segment\"},{\"attributes\":{},\"id\":\"25104\",\"type\":\"UnionRenderers\"},{\"attributes\":{},\"id\":\"25177\",\"type\":\"Selection\"},{\"attributes\":{\"data_source\":{\"id\":\"24016\",\"type\":\"ColumnDataSource\"},\"glyph\":{\"id\":\"24017\",\"type\":\"Circle\"},\"hover_glyph\":null,\"muted_glyph\":null,\"nonselection_glyph\":{\"id\":\"24018\",\"type\":\"Circle\"},\"selection_glyph\":null,\"view\":{\"id\":\"24020\",\"type\":\"CDSView\"}},\"id\":\"24019\",\"type\":\"GlyphRenderer\"},{\"attributes\":{\"line_alpha\":{\"value\":0.1},\"line_color\":{\"value\":\"#1f77b4\"},\"line_width\":{\"value\":2},\"x0\":{\"value\":8},\"x1\":{\"value\":8},\"y0\":{\"value\":0},\"y1\":{\"value\":0.12013435363769531}},\"id\":\"24093\",\"type\":\"Segment\"},{\"attributes\":{\"source\":{\"id\":\"24161\",\"type\":\"ColumnDataSource\"}},\"id\":\"24165\",\"type\":\"CDSView\"},{\"attributes\":{},\"id\":\"25105\",\"type\":\"Selection\"},{\"attributes\":{\"data_source\":{\"id\":\"24091\",\"type\":\"ColumnDataSource\"},\"glyph\":{\"id\":\"24092\",\"type\":\"Segment\"},\"hover_glyph\":null,\"muted_glyph\":null,\"nonselection_glyph\":{\"id\":\"24093\",\"type\":\"Segment\"},\"selection_glyph\":null,\"view\":{\"id\":\"24095\",\"type\":\"CDSView\"}},\"id\":\"24094\",\"type\":\"GlyphRenderer\"},{\"attributes\":{\"source\":{\"id\":\"24016\",\"type\":\"ColumnDataSource\"}},\"id\":\"24020\",\"type\":\"CDSView\"},{\"attributes\":{\"callback\":null,\"data\":{},\"selected\":{\"id\":\"25157\",\"type\":\"Selection\"},\"selection_policy\":{\"id\":\"25156\",\"type\":\"UnionRenderers\"}},\"id\":\"24166\",\"type\":\"ColumnDataSource\"},{\"attributes\":{},\"id\":\"25106\",\"type\":\"UnionRenderers\"},{\"attributes\":{\"callback\":null,\"data\":{},\"selected\":{\"id\":\"25099\",\"type\":\"Selection\"},\"selection_policy\":{\"id\":\"25098\",\"type\":\"UnionRenderers\"}},\"id\":\"24021\",\"type\":\"ColumnDataSource\"},{\"attributes\":{\"fill_color\":{\"value\":\"#1f77b4\"},\"line_color\":{\"value\":\"#1f77b4\"},\"size\":{\"units\":\"screen\",\"value\":16},\"x\":{\"value\":1},\"y\":{\"value\":1.907348632812499e-05}},\"id\":\"24027\",\"type\":\"Circle\"},{\"attributes\":{\"source\":{\"id\":\"24091\",\"type\":\"ColumnDataSource\"}},\"id\":\"24095\",\"type\":\"CDSView\"},{\"attributes\":{\"fill_color\":{\"value\":\"#1f77b4\"},\"line_color\":{\"value\":\"#1f77b4\"},\"size\":{\"units\":\"screen\",\"value\":16},\"x\":{\"value\":15},\"y\":{\"value\":0.014785766601562429}},\"id\":\"24167\",\"type\":\"Circle\"},{\"attributes\":{},\"id\":\"25107\",\"type\":\"Selection\"},{\"attributes\":{\"callback\":null},\"id\":\"23982\",\"type\":\"DataRange1d\"},{\"attributes\":{\"callback\":null,\"data\":{},\"selected\":{\"id\":\"25129\",\"type\":\"Selection\"},\"selection_policy\":{\"id\":\"25128\",\"type\":\"UnionRenderers\"}},\"id\":\"24096\",\"type\":\"ColumnDataSource\"},{\"attributes\":{\"fill_alpha\":{\"value\":0.1},\"fill_color\":{\"value\":\"#1f77b4\"},\"line_alpha\":{\"value\":0.1},\"line_color\":{\"value\":\"#1f77b4\"},\"size\":{\"units\":\"screen\",\"value\":16},\"x\":{\"value\":15},\"y\":{\"value\":0.014785766601562429}},\"id\":\"24168\",\"type\":\"Circle\"},{\"attributes\":{},\"id\":\"25108\",\"type\":\"UnionRenderers\"},{\"attributes\":{\"axis_label\":\"probability of outcome\",\"formatter\":{\"id\":\"25091\",\"type\":\"BasicTickFormatter\"},\"ticker\":{\"id\":\"23994\",\"type\":\"BasicTicker\"}},\"id\":\"23993\",\"type\":\"LinearAxis\"},{\"attributes\":{\"data_source\":{\"id\":\"24166\",\"type\":\"ColumnDataSource\"},\"glyph\":{\"id\":\"24167\",\"type\":\"Circle\"},\"hover_glyph\":null,\"muted_glyph\":null,\"nonselection_glyph\":{\"id\":\"24168\",\"type\":\"Circle\"},\"selection_glyph\":null,\"view\":{\"id\":\"24170\",\"type\":\"CDSView\"}},\"id\":\"24169\",\"type\":\"GlyphRenderer\"},{\"attributes\":{\"fill_color\":{\"value\":\"#1f77b4\"},\"line_color\":{\"value\":\"#1f77b4\"},\"size\":{\"units\":\"screen\",\"value\":16},\"x\":{\"value\":8},\"y\":{\"value\":0.12013435363769531}},\"id\":\"24097\",\"type\":\"Circle\"},{\"attributes\":{},\"id\":\"25109\",\"type\":\"Selection\"},{\"attributes\":{\"ticker\":{\"id\":\"23989\",\"type\":\"BasicTicker\"}},\"id\":\"23992\",\"type\":\"Grid\"},{\"attributes\":{\"fill_alpha\":{\"value\":0.1},\"fill_color\":{\"value\":\"#1f77b4\"},\"line_alpha\":{\"value\":0.1},\"line_color\":{\"value\":\"#1f77b4\"},\"size\":{\"units\":\"screen\",\"value\":16},\"x\":{\"value\":8},\"y\":{\"value\":0.12013435363769531}},\"id\":\"24098\",\"type\":\"Circle\"},{\"attributes\":{\"source\":{\"id\":\"24166\",\"type\":\"ColumnDataSource\"}},\"id\":\"24170\",\"type\":\"CDSView\"},{\"attributes\":{},\"id\":\"25110\",\"type\":\"UnionRenderers\"},{\"attributes\":{\"data_source\":{\"id\":\"24096\",\"type\":\"ColumnDataSource\"},\"glyph\":{\"id\":\"24097\",\"type\":\"Circle\"},\"hover_glyph\":null,\"muted_glyph\":null,\"nonselection_glyph\":{\"id\":\"24098\",\"type\":\"Circle\"},\"selection_glyph\":null,\"view\":{\"id\":\"24100\",\"type\":\"CDSView\"}},\"id\":\"24099\",\"type\":\"GlyphRenderer\"},{\"attributes\":{},\"id\":\"23989\",\"type\":\"BasicTicker\"},{\"attributes\":{\"callback\":null,\"data\":{},\"selected\":{\"id\":\"25159\",\"type\":\"Selection\"},\"selection_policy\":{\"id\":\"25158\",\"type\":\"UnionRenderers\"}},\"id\":\"24171\",\"type\":\"ColumnDataSource\"},{\"attributes\":{},\"id\":\"25111\",\"type\":\"Selection\"},{\"attributes\":{\"axis_label\":\"number of successes\",\"formatter\":{\"id\":\"25092\",\"type\":\"BasicTickFormatter\"},\"ticker\":{\"id\":\"24221\",\"type\":\"FixedTicker\"}},\"id\":\"23988\",\"type\":\"LinearAxis\"}],\"root_ids\":[\"23979\"]},\"title\":\"Bokeh Application\",\"version\":\"1.2.0\"}};\n",
       "  var render_items = [{\"docid\":\"121e370c-af88-45e0-ba7a-075011c392b6\",\"roots\":{\"23979\":\"8ba7b21f-2e3e-425a-a50d-0476aec97951\"}}];\n",
       "  root.Bokeh.embed.embed_items_notebook(docs_json, render_items);\n",
       "\n",
       "  }\n",
       "  if (root.Bokeh !== undefined) {\n",
       "    embed_document(root);\n",
       "  } else {\n",
       "    var attempts = 0;\n",
       "    var timer = setInterval(function(root) {\n",
       "      if (root.Bokeh !== undefined) {\n",
       "        embed_document(root);\n",
       "        clearInterval(timer);\n",
       "      }\n",
       "      attempts++;\n",
       "      if (attempts > 100) {\n",
       "        console.log(\"Bokeh: ERROR: Unable to run BokehJS code because BokehJS library is missing\");\n",
       "        clearInterval(timer);\n",
       "      }\n",
       "    }, 10, root)\n",
       "  }\n",
       "})(window);"
      ],
      "application/vnd.bokehjs_exec.v0+json": ""
     },
     "metadata": {
      "application/vnd.bokehjs_exec.v0+json": {
       "id": "23979"
      }
     },
     "output_type": "display_data"
    }
   ],
   "source": [
    "def plot_pmf(n=10, p=0.5):\n",
    "    \n",
    "    # create a figure object\n",
    "    plot = figure(x_axis_label='number of successes', y_axis_label='probability of outcome', plot_height=400, plot_width=550)\n",
    "\n",
    "    # define an array with the number of successes we could get\n",
    "    successes = np.arange(n+1)\n",
    "\n",
    "    # create an empty list to store probabilities\n",
    "    probs = []\n",
    "\n",
    "    # loop over all outcomes\n",
    "    for k in successes:\n",
    "    \n",
    "        # get the probability of the outcome\n",
    "        y =  binom.pmf(k=k, n=n, p=p)\n",
    "    \n",
    "        # plot on figure\n",
    "        plot.segment(k, 0, k, y, line_width=2)\n",
    "        plot.circle(k, y, size=16)\n",
    "        \n",
    "        # add the probability to our list\n",
    "        probs.append(y)\n",
    "    \n",
    "    #change axis ticks\n",
    "    plot.xaxis.ticker = successes\n",
    "\n",
    "    show(plot)\n",
    "    return plot\n",
    "\n",
    "_ = plot_pmf(n=20, p=0.5)"
   ]
  },
  {
   "cell_type": "markdown",
   "metadata": {},
   "source": [
    "## <b>Probability distribution function (cdf)</b>\n",
    "\n",
    "When we want to calculate the probability of getting $k$ or fewer heads from $n$ throws, we use the binomial probabilty distribution function, which adds the probabilities of getting 0 heads out of $n$ flips, getting 1 head out of 10 flips and so on up to $k$ heads out of $n$ flips.\n",
    "\n",
    "$$binom.cdf(k, n, p) = \\binom{n}{0}p^0(1 - p)^{n} + \\binom{n}{1}p(1 - p)^{n-1} + ... + \\binom{n}{k}p^k(1 - p)^{n-k}$$\n",
    "\n",
    "The binomial probability distribution function allows us to calculate the cumulative probability of getting $k$ heads or fewer from $n$ coin flips with $p$ probability of getting heads."
   ]
  },
  {
   "cell_type": "code",
   "execution_count": 8,
   "metadata": {},
   "outputs": [
    {
     "data": {
      "text/plain": [
       "0.054687500000000014"
      ]
     },
     "execution_count": 8,
     "metadata": {},
     "output_type": "execute_result"
    }
   ],
   "source": [
    "# probability of less than 2 heads after 10 throws with a fair coin\n",
    "binom.cdf(k=2, n=10, p=0.5)"
   ]
  },
  {
   "cell_type": "markdown",
   "metadata": {},
   "source": [
    "We can use the complement to see what the probabilities of getting more than $k$ heads from $n$ throws. "
   ]
  },
  {
   "cell_type": "code",
   "execution_count": 9,
   "metadata": {},
   "outputs": [
    {
     "data": {
      "text/plain": [
       "0.9453125"
      ]
     },
     "execution_count": 9,
     "metadata": {},
     "output_type": "execute_result"
    }
   ],
   "source": [
    "# probability of more than 2 heads after 10 throws with a fair coin\n",
    "1 - binom.cdf(k=2, n=10, p=0.5)"
   ]
  },
  {
   "cell_type": "markdown",
   "metadata": {},
   "source": [
    "Alternatively we can use the function <code>binom.sf(k,n,p)</code> for the complement. <code>sf</code> stands for survival function."
   ]
  },
  {
   "cell_type": "code",
   "execution_count": 10,
   "metadata": {},
   "outputs": [
    {
     "data": {
      "text/plain": [
       "0.9453125"
      ]
     },
     "execution_count": 10,
     "metadata": {},
     "output_type": "execute_result"
    }
   ],
   "source": [
    "# probability of more than 2 heads after 10 throws with a fair coin using binom.sf\n",
    "binom.sf(k=2, n=10, p=0.5)"
   ]
  },
  {
   "cell_type": "code",
   "execution_count": 11,
   "metadata": {},
   "outputs": [
    {
     "data": {
      "text/html": [
       "\n",
       "\n",
       "\n",
       "\n",
       "\n",
       "\n",
       "  <div class=\"bk-root\" id=\"f7fdde34-e45d-4053-b620-8415c0c2d2a5\" data-root-id=\"2089\"></div>\n"
      ]
     },
     "metadata": {},
     "output_type": "display_data"
    },
    {
     "data": {
      "application/javascript": [
       "(function(root) {\n",
       "  function embed_document(root) {\n",
       "    \n",
       "  var docs_json = {\"de3c26eb-dcea-4f49-b735-9800c27aa4ba\":{\"roots\":{\"references\":[{\"attributes\":{\"below\":[{\"id\":\"2098\",\"type\":\"LinearAxis\"}],\"center\":[{\"id\":\"2102\",\"type\":\"Grid\"},{\"id\":\"2107\",\"type\":\"Grid\"},{\"id\":\"2133\",\"type\":\"Legend\"}],\"left\":[{\"id\":\"2103\",\"type\":\"LinearAxis\"}],\"plot_height\":400,\"plot_width\":550,\"renderers\":[{\"id\":\"2124\",\"type\":\"GlyphRenderer\"}],\"title\":{\"id\":\"2127\",\"type\":\"Title\"},\"toolbar\":{\"id\":\"2114\",\"type\":\"Toolbar\"},\"x_range\":{\"id\":\"2090\",\"type\":\"DataRange1d\"},\"x_scale\":{\"id\":\"2094\",\"type\":\"LinearScale\"},\"y_range\":{\"id\":\"2092\",\"type\":\"DataRange1d\"},\"y_scale\":{\"id\":\"2096\",\"type\":\"LinearScale\"}},\"id\":\"2089\",\"subtype\":\"Figure\",\"type\":\"Plot\"},{\"attributes\":{},\"id\":\"2233\",\"type\":\"UnionRenderers\"},{\"attributes\":{\"line_color\":\"#1f77b4\",\"line_width\":4,\"x\":{\"field\":\"x\"},\"y\":{\"field\":\"y\"}},\"id\":\"2122\",\"type\":\"Line\"},{\"attributes\":{\"ticks\":[0,1,2,3,4,5,6,7,8,9,10,11,12,13,14,15,16,17,18,19,20]},\"id\":\"2135\",\"type\":\"FixedTicker\"},{\"attributes\":{\"active_drag\":\"auto\",\"active_inspect\":\"auto\",\"active_multi\":null,\"active_scroll\":\"auto\",\"active_tap\":\"auto\",\"tools\":[{\"id\":\"2108\",\"type\":\"PanTool\"},{\"id\":\"2109\",\"type\":\"WheelZoomTool\"},{\"id\":\"2110\",\"type\":\"BoxZoomTool\"},{\"id\":\"2111\",\"type\":\"SaveTool\"},{\"id\":\"2112\",\"type\":\"ResetTool\"},{\"id\":\"2113\",\"type\":\"HelpTool\"}]},\"id\":\"2114\",\"type\":\"Toolbar\"},{\"attributes\":{\"dimension\":1,\"ticker\":{\"id\":\"2104\",\"type\":\"BasicTicker\"}},\"id\":\"2107\",\"type\":\"Grid\"},{\"attributes\":{},\"id\":\"2108\",\"type\":\"PanTool\"},{\"attributes\":{},\"id\":\"2234\",\"type\":\"Selection\"},{\"attributes\":{},\"id\":\"2109\",\"type\":\"WheelZoomTool\"},{\"attributes\":{},\"id\":\"2104\",\"type\":\"BasicTicker\"},{\"attributes\":{\"overlay\":{\"id\":\"2132\",\"type\":\"BoxAnnotation\"}},\"id\":\"2110\",\"type\":\"BoxZoomTool\"},{\"attributes\":{},\"id\":\"2111\",\"type\":\"SaveTool\"},{\"attributes\":{},\"id\":\"2112\",\"type\":\"ResetTool\"},{\"attributes\":{\"axis_label\":\"cdf\",\"formatter\":{\"id\":\"2129\",\"type\":\"BasicTickFormatter\"},\"ticker\":{\"id\":\"2104\",\"type\":\"BasicTicker\"}},\"id\":\"2103\",\"type\":\"LinearAxis\"},{\"attributes\":{},\"id\":\"2113\",\"type\":\"HelpTool\"},{\"attributes\":{\"ticker\":{\"id\":\"2099\",\"type\":\"BasicTicker\"}},\"id\":\"2102\",\"type\":\"Grid\"},{\"attributes\":{\"line_alpha\":0.1,\"line_color\":\"#1f77b4\",\"line_width\":4,\"x\":{\"field\":\"x\"},\"y\":{\"field\":\"y\"}},\"id\":\"2123\",\"type\":\"Line\"},{\"attributes\":{},\"id\":\"2094\",\"type\":\"LinearScale\"},{\"attributes\":{\"data_source\":{\"id\":\"2121\",\"type\":\"ColumnDataSource\"},\"glyph\":{\"id\":\"2122\",\"type\":\"Line\"},\"hover_glyph\":null,\"muted_glyph\":null,\"nonselection_glyph\":{\"id\":\"2123\",\"type\":\"Line\"},\"selection_glyph\":null,\"view\":{\"id\":\"2125\",\"type\":\"CDSView\"}},\"id\":\"2124\",\"type\":\"GlyphRenderer\"},{\"attributes\":{\"source\":{\"id\":\"2121\",\"type\":\"ColumnDataSource\"}},\"id\":\"2125\",\"type\":\"CDSView\"},{\"attributes\":{},\"id\":\"2096\",\"type\":\"LinearScale\"},{\"attributes\":{\"text\":\"\"},\"id\":\"2127\",\"type\":\"Title\"},{\"attributes\":{},\"id\":\"2129\",\"type\":\"BasicTickFormatter\"},{\"attributes\":{},\"id\":\"2131\",\"type\":\"BasicTickFormatter\"},{\"attributes\":{\"callback\":null,\"data\":{\"x\":{\"__ndarray__\":\"AAAAAAEAAAACAAAAAwAAAAQAAAAFAAAABgAAAAcAAAAIAAAACQAAAAoAAAALAAAADAAAAA0AAAAOAAAADwAAABAAAAARAAAAEgAAABMAAAAUAAAA\",\"dtype\":\"int32\",\"shape\":[21]},\"y\":[9.5367431640625e-07,2.0027160644531247e-05,0.0002012252807617188,0.0012884140014648435,0.005908966064453124,0.020694732666015625,0.057659149169921854,0.13158798217773435,0.25172233581542974,0.41190147399902316,0.5880985260009768,0.7482776641845703,0.8684120178222656,0.9423408508300781,0.9793052673339844,0.9940910339355469,0.9987115859985352,0.9997987747192383,0.9999799728393555,0.9999990463256836,1.0]},\"selected\":{\"id\":\"2234\",\"type\":\"Selection\"},\"selection_policy\":{\"id\":\"2233\",\"type\":\"UnionRenderers\"}},\"id\":\"2121\",\"type\":\"ColumnDataSource\"},{\"attributes\":{\"callback\":null},\"id\":\"2092\",\"type\":\"DataRange1d\"},{\"attributes\":{\"bottom_units\":\"screen\",\"fill_alpha\":{\"value\":0.5},\"fill_color\":{\"value\":\"lightgrey\"},\"left_units\":\"screen\",\"level\":\"overlay\",\"line_alpha\":{\"value\":1.0},\"line_color\":{\"value\":\"black\"},\"line_dash\":[4,4],\"line_width\":{\"value\":2},\"render_mode\":\"css\",\"right_units\":\"screen\",\"top_units\":\"screen\"},\"id\":\"2132\",\"type\":\"BoxAnnotation\"},{\"attributes\":{\"callback\":null},\"id\":\"2090\",\"type\":\"DataRange1d\"},{\"attributes\":{},\"id\":\"2099\",\"type\":\"BasicTicker\"},{\"attributes\":{\"items\":[{\"id\":\"2134\",\"type\":\"LegendItem\"}],\"location\":\"bottom_right\"},\"id\":\"2133\",\"type\":\"Legend\"},{\"attributes\":{\"label\":{\"value\":\"p=0.5\"},\"renderers\":[{\"id\":\"2124\",\"type\":\"GlyphRenderer\"}]},\"id\":\"2134\",\"type\":\"LegendItem\"},{\"attributes\":{\"axis_label\":\"number of heads\",\"formatter\":{\"id\":\"2131\",\"type\":\"BasicTickFormatter\"},\"ticker\":{\"id\":\"2135\",\"type\":\"FixedTicker\"}},\"id\":\"2098\",\"type\":\"LinearAxis\"}],\"root_ids\":[\"2089\"]},\"title\":\"Bokeh Application\",\"version\":\"1.2.0\"}};\n",
       "  var render_items = [{\"docid\":\"de3c26eb-dcea-4f49-b735-9800c27aa4ba\",\"roots\":{\"2089\":\"f7fdde34-e45d-4053-b620-8415c0c2d2a5\"}}];\n",
       "  root.Bokeh.embed.embed_items_notebook(docs_json, render_items);\n",
       "\n",
       "  }\n",
       "  if (root.Bokeh !== undefined) {\n",
       "    embed_document(root);\n",
       "  } else {\n",
       "    var attempts = 0;\n",
       "    var timer = setInterval(function(root) {\n",
       "      if (root.Bokeh !== undefined) {\n",
       "        embed_document(root);\n",
       "        clearInterval(timer);\n",
       "      }\n",
       "      attempts++;\n",
       "      if (attempts > 100) {\n",
       "        console.log(\"Bokeh: ERROR: Unable to run BokehJS code because BokehJS library is missing\");\n",
       "        clearInterval(timer);\n",
       "      }\n",
       "    }, 10, root)\n",
       "  }\n",
       "})(window);"
      ],
      "application/vnd.bokehjs_exec.v0+json": ""
     },
     "metadata": {
      "application/vnd.bokehjs_exec.v0+json": {
       "id": "2089"
      }
     },
     "output_type": "display_data"
    }
   ],
   "source": [
    "def plot_cdf(n=10, p=0.5):\n",
    "    # create a figure object\n",
    "    plot = figure(x_axis_label='number of heads', y_axis_label='cdf', plot_height=400, plot_width=550)\n",
    "\n",
    "    # defining an array with the number of successes we could get\n",
    "    successes = np.arange(n+1)\n",
    "\n",
    "    # create a list of probability outcomes\n",
    "    probs = [binom.cdf(k=k, n=n, p=p) for k in successes]\n",
    "\n",
    "    # plot cdf\n",
    "    plot.line(successes, probs, line_width=4, legend='p='+str(p))\n",
    "\n",
    "    # change axis ticks\n",
    "    plot.xaxis.ticker = successes\n",
    "    plot.legend.location = 'bottom_right'\n",
    "    show(plot)\n",
    "    return plot\n",
    "\n",
    "_ = plot_cdf(n=20, p=0.5)"
   ]
  },
  {
   "cell_type": "code",
   "execution_count": 12,
   "metadata": {},
   "outputs": [
    {
     "data": {
      "text/plain": [
       "0.9940910339355469"
      ]
     },
     "execution_count": 12,
     "metadata": {},
     "output_type": "execute_result"
    }
   ],
   "source": [
    "binom.sf(k=4, n=20, p=0.5)"
   ]
  },
  {
   "cell_type": "markdown",
   "metadata": {},
   "source": [
    "## Expected value\n",
    "\n",
    "A discrete random variable has finite outcomes. For discrete random variables, the <b>expected value</b> is the sum of the possible outcomes weighted by their probability. To calculate the expected value, each outcome is multiplied by its probability, and the products are summed.\n",
    "\n",
    "$$E(X)=\\sum_{i=1}^{k}x_1p_1 = x_1p_1 + x_2p_2 + ... + x_kp_k$$\n",
    "\n",
    "It is a value were the probability will concentrate when we repeat the experiment. For our coin example we multiply the tails outcome $0$ for its probability $1-p$ then we add the heads outcome which is $1$ multiplied by its probability $p$\n",
    "\n",
    "$$E(X)=\\sum_{i=1}^{2}x_1p_1 =0\\times(1-p) + 1\\times p=p$$\n",
    "\n",
    "and we get the expected value $p$.\n",
    "\n",
    "## Arithmetic Mean\n",
    "\n",
    "The <b>arithmetic mean</b> is the sum of each outcome divided by the number of samples.\n",
    "\n",
    "$$\\bar{X}=\\frac{1}{n}\\sum_{i=1}^{n}x_1=\\frac{1}{n}(x_1+x_2+...+x_n)$$\n",
    "\n",
    "The <b>arithmetic mean</b> of the oucomes converges to the <b>expected value</b> as we increase the number of random experiments. In scipy we will use the <code>describe()</code> function from <code>scipy.stats</code> to get the mean."
   ]
  },
  {
   "cell_type": "code",
   "execution_count": 28,
   "metadata": {},
   "outputs": [
    {
     "data": {
      "text/plain": [
       "DescribeResult(nobs=2, minmax=(0, 1), mean=0.5, variance=0.5, skewness=0.0, kurtosis=-2.0)"
      ]
     },
     "execution_count": 28,
     "metadata": {},
     "output_type": "execute_result"
    }
   ],
   "source": [
    "from scipy.stats import describe\n",
    "\n",
    "describe([0,1])"
   ]
  },
  {
   "cell_type": "markdown",
   "metadata": {},
   "source": [
    "If we repeat the experiment and make $n$ coin flips we should get a number near the expected value, so the more the flips, the more the mean of all the throws approaches the expected value as we can see from the graph below."
   ]
  },
  {
   "cell_type": "code",
   "execution_count": 81,
   "metadata": {},
   "outputs": [
    {
     "data": {
      "text/html": [
       "\n",
       "\n",
       "\n",
       "\n",
       "\n",
       "\n",
       "  <div class=\"bk-root\" id=\"74ac0fb3-62bf-4df6-96de-39b6d20c69a6\" data-root-id=\"30084\"></div>\n"
      ]
     },
     "metadata": {},
     "output_type": "display_data"
    },
    {
     "data": {
      "application/javascript": [
       "(function(root) {\n",
       "  function embed_document(root) {\n",
       "    \n",
       "  var docs_json = {\"218d7377-3c1a-4f54-9cf1-97c507cfa3b3\":{\"roots\":{\"references\":[{\"attributes\":{\"below\":[{\"id\":\"30093\",\"type\":\"LinearAxis\"}],\"center\":[{\"id\":\"30097\",\"type\":\"Grid\"},{\"id\":\"30102\",\"type\":\"Grid\"},{\"id\":\"30126\",\"type\":\"Label\"}],\"left\":[{\"id\":\"30098\",\"type\":\"LinearAxis\"}],\"plot_height\":400,\"plot_width\":550,\"renderers\":[{\"id\":\"30119\",\"type\":\"GlyphRenderer\"},{\"id\":\"30124\",\"type\":\"GlyphRenderer\"}],\"title\":{\"id\":\"31127\",\"type\":\"Title\"},\"toolbar\":{\"id\":\"30109\",\"type\":\"Toolbar\"},\"x_range\":{\"id\":\"30085\",\"type\":\"DataRange1d\"},\"x_scale\":{\"id\":\"30089\",\"type\":\"LinearScale\"},\"y_range\":{\"id\":\"30087\",\"type\":\"Range1d\"},\"y_scale\":{\"id\":\"30091\",\"type\":\"LinearScale\"}},\"id\":\"30084\",\"subtype\":\"Figure\",\"type\":\"Plot\"},{\"attributes\":{\"line_color\":\"#1f77b4\",\"x\":{\"field\":\"x\"},\"y\":{\"field\":\"y\"}},\"id\":\"30117\",\"type\":\"Line\"},{\"attributes\":{\"line_alpha\":0.8,\"line_color\":\"grey\",\"x\":{\"field\":\"x\"},\"y\":{\"value\":0.5}},\"id\":\"30122\",\"type\":\"Line\"},{\"attributes\":{},\"id\":\"30099\",\"type\":\"BasicTicker\"},{\"attributes\":{\"line_alpha\":0.1,\"line_color\":\"#1f77b4\",\"x\":{\"field\":\"x\"},\"y\":{\"value\":0.5}},\"id\":\"30123\",\"type\":\"Line\"},{\"attributes\":{\"axis_label\":\"Mean of coin flips\",\"formatter\":{\"id\":\"31129\",\"type\":\"BasicTickFormatter\"},\"ticker\":{\"id\":\"30099\",\"type\":\"BasicTicker\"}},\"id\":\"30098\",\"type\":\"LinearAxis\"},{\"attributes\":{\"data_source\":{\"id\":\"30121\",\"type\":\"ColumnDataSource\"},\"glyph\":{\"id\":\"30122\",\"type\":\"Line\"},\"hover_glyph\":null,\"muted_glyph\":null,\"nonselection_glyph\":{\"id\":\"30123\",\"type\":\"Line\"},\"selection_glyph\":null,\"view\":{\"id\":\"30125\",\"type\":\"CDSView\"}},\"id\":\"30124\",\"type\":\"GlyphRenderer\"},{\"attributes\":{\"ticker\":{\"id\":\"30094\",\"type\":\"BasicTicker\"}},\"id\":\"30097\",\"type\":\"Grid\"},{\"attributes\":{\"source\":{\"id\":\"30121\",\"type\":\"ColumnDataSource\"}},\"id\":\"30125\",\"type\":\"CDSView\"},{\"attributes\":{},\"id\":\"30094\",\"type\":\"BasicTicker\"},{\"attributes\":{\"text\":\"expected value\",\"text_alpha\":{\"value\":0.8},\"x\":600.0,\"y\":0.5},\"id\":\"30126\",\"type\":\"Label\"},{\"attributes\":{\"axis_label\":\"Coin flips\",\"formatter\":{\"id\":\"31131\",\"type\":\"BasicTickFormatter\"},\"ticker\":{\"id\":\"30094\",\"type\":\"BasicTicker\"}},\"id\":\"30093\",\"type\":\"LinearAxis\"},{\"attributes\":{\"text\":\"\"},\"id\":\"31127\",\"type\":\"Title\"},{\"attributes\":{},\"id\":\"30091\",\"type\":\"LinearScale\"},{\"attributes\":{},\"id\":\"30089\",\"type\":\"LinearScale\"},{\"attributes\":{},\"id\":\"31129\",\"type\":\"BasicTickFormatter\"},{\"attributes\":{},\"id\":\"31131\",\"type\":\"BasicTickFormatter\"},{\"attributes\":{\"callback\":null},\"id\":\"30087\",\"type\":\"Range1d\"},{\"attributes\":{},\"id\":\"31133\",\"type\":\"UnionRenderers\"},{\"attributes\":{\"bottom_units\":\"screen\",\"fill_alpha\":{\"value\":0.5},\"fill_color\":{\"value\":\"lightgrey\"},\"left_units\":\"screen\",\"level\":\"overlay\",\"line_alpha\":{\"value\":1.0},\"line_color\":{\"value\":\"black\"},\"line_dash\":[4,4],\"line_width\":{\"value\":2},\"render_mode\":\"css\",\"right_units\":\"screen\",\"top_units\":\"screen\"},\"id\":\"31132\",\"type\":\"BoxAnnotation\"},{\"attributes\":{},\"id\":\"31134\",\"type\":\"Selection\"},{\"attributes\":{\"callback\":null},\"id\":\"30085\",\"type\":\"DataRange1d\"},{\"attributes\":{},\"id\":\"30108\",\"type\":\"HelpTool\"},{\"attributes\":{},\"id\":\"30103\",\"type\":\"PanTool\"},{\"attributes\":{},\"id\":\"31135\",\"type\":\"UnionRenderers\"},{\"attributes\":{\"line_alpha\":0.1,\"line_color\":\"#1f77b4\",\"x\":{\"field\":\"x\"},\"y\":{\"field\":\"y\"}},\"id\":\"30118\",\"type\":\"Line\"},{\"attributes\":{},\"id\":\"31136\",\"type\":\"Selection\"},{\"attributes\":{\"callback\":null,\"data\":{\"x\":{\"__ndarray__\":\"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\",\"dtype\":\"int32\",\"shape\":[1000]}},\"selected\":{\"id\":\"31136\",\"type\":\"Selection\"},\"selection_policy\":{\"id\":\"31135\",\"type\":\"UnionRenderers\"}},\"id\":\"30121\",\"type\":\"ColumnDataSource\"},{\"attributes\":{\"overlay\":{\"id\":\"31132\",\"type\":\"BoxAnnotation\"}},\"id\":\"30105\",\"type\":\"BoxZoomTool\"},{\"attributes\":{\"active_drag\":\"auto\",\"active_inspect\":\"auto\",\"active_multi\":null,\"active_scroll\":\"auto\",\"active_tap\":\"auto\",\"tools\":[{\"id\":\"30103\",\"type\":\"PanTool\"},{\"id\":\"30104\",\"type\":\"WheelZoomTool\"},{\"id\":\"30105\",\"type\":\"BoxZoomTool\"},{\"id\":\"30106\",\"type\":\"SaveTool\"},{\"id\":\"30107\",\"type\":\"ResetTool\"},{\"id\":\"30108\",\"type\":\"HelpTool\"}]},\"id\":\"30109\",\"type\":\"Toolbar\"},{\"attributes\":{\"data_source\":{\"id\":\"30116\",\"type\":\"ColumnDataSource\"},\"glyph\":{\"id\":\"30117\",\"type\":\"Line\"},\"hover_glyph\":null,\"muted_glyph\":null,\"nonselection_glyph\":{\"id\":\"30118\",\"type\":\"Line\"},\"selection_glyph\":null,\"view\":{\"id\":\"30120\",\"type\":\"CDSView\"}},\"id\":\"30119\",\"type\":\"GlyphRenderer\"},{\"attributes\":{},\"id\":\"30104\",\"type\":\"WheelZoomTool\"},{\"attributes\":{\"source\":{\"id\":\"30116\",\"type\":\"ColumnDataSource\"}},\"id\":\"30120\",\"type\":\"CDSView\"},{\"attributes\":{},\"id\":\"30107\",\"type\":\"ResetTool\"},{\"attributes\":{},\"id\":\"30106\",\"type\":\"SaveTool\"},{\"attributes\":{\"callback\":null,\"data\":{\"x\":{\"__ndarray__\":\"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\",\"dtype\":\"int32\",\"shape\":[1000]},\"y\":[1.0,0.5,0.3333333333333333,0.25,0.4,0.5,0.5714285714285714,0.625,0.6666666666666666,0.6,0.5454545454545454,0.5,0.46153846153846156,0.5,0.5333333333333333,0.5625,0.5294117647058824,0.5,0.47368421052631576,0.5,0.5238095238095238,0.5454545454545454,0.5217391304347826,0.5,0.52,0.5384615384615384,0.5555555555555556,0.5714285714285714,0.5517241379310345,0.5333333333333333,0.5161290322580645,0.5,0.48484848484848486,0.47058823529411764,0.4857142857142857,0.5,0.4864864864864865,0.47368421052631576,0.46153846153846156,0.475,0.4634146341463415,0.47619047619047616,0.46511627906976744,0.45454545454545453,0.4444444444444444,0.45652173913043476,0.44680851063829785,0.4375,0.4489795918367347,0.46,0.45098039215686275,0.46153846153846156,0.4528301886792453,0.46296296296296297,0.4727272727272727,0.48214285714285715,0.49122807017543857,0.5,0.4915254237288136,0.5,0.4918032786885246,0.5,0.49206349206349204,0.5,0.49230769230769234,0.48484848484848486,0.47761194029850745,0.4852941176470588,0.4927536231884058,0.4857142857142857,0.4788732394366197,0.4722222222222222,0.4657534246575342,0.47297297297297297,0.48,0.47368421052631576,0.4675324675324675,0.47435897435897434,0.4810126582278481,0.475,0.4691358024691358,0.47560975609756095,0.46987951807228917,0.4642857142857143,0.4588235294117647,0.45348837209302323,0.4482758620689655,0.4431818181818182,0.449438202247191,0.4444444444444444,0.45054945054945056,0.45652173913043476,0.46236559139784944,0.4574468085106383,0.45263157894736844,0.4479166666666667,0.44329896907216493,0.4387755102040816,0.43434343434343436,0.44,0.44554455445544555,0.4411764705882353,0.44660194174757284,0.4423076923076923,0.44761904761904764,0.44339622641509435,0.4485981308411215,0.4444444444444444,0.44954128440366975,0.44545454545454544,0.44144144144144143,0.4375,0.4424778761061947,0.43859649122807015,0.43478260869565216,0.43103448275862066,0.42735042735042733,0.423728813559322,0.42016806722689076,0.425,0.4214876033057851,0.4262295081967213,0.42276422764227645,0.41935483870967744,0.424,0.42857142857142855,0.4251968503937008,0.4296875,0.4263565891472868,0.4230769230769231,0.42748091603053434,0.42424242424242425,0.42105263157894735,0.417910447761194,0.4222222222222222,0.4264705882352941,0.4233576642335766,0.427536231884058,0.4244604316546763,0.42142857142857143,0.425531914893617,0.4225352112676056,0.42657342657342656,0.4236111111111111,0.4206896551724138,0.4246575342465753,0.42857142857142855,0.42567567567567566,0.42953020134228187,0.43333333333333335,0.4370860927152318,0.4407894736842105,0.43790849673202614,0.43506493506493504,0.43870967741935485,0.4423076923076923,0.445859872611465,0.4430379746835443,0.44025157232704404,0.4375,0.4409937888198758,0.4444444444444444,0.44785276073619634,0.45121951219512196,0.4484848484848485,0.4457831325301205,0.4491017964071856,0.4523809523809524,0.4556213017751479,0.4588235294117647,0.4619883040935672,0.46511627906976744,0.4682080924855491,0.47126436781609193,0.4742857142857143,0.4772727272727273,0.4745762711864407,0.47752808988764045,0.4748603351955307,0.4777777777777778,0.47513812154696133,0.47802197802197804,0.47540983606557374,0.4782608695652174,0.4756756756756757,0.4731182795698925,0.47058823529411764,0.46808510638297873,0.4708994708994709,0.47368421052631576,0.47643979057591623,0.4739583333333333,0.47668393782383417,0.4742268041237113,0.4717948717948718,0.46938775510204084,0.467005076142132,0.4696969696969697,0.4723618090452261,0.475,0.47761194029850745,0.4752475247524752,0.47783251231527096,0.4803921568627451,0.47804878048780486,0.47572815533980584,0.4782608695652174,0.4807692307692308,0.48325358851674644,0.4857142857142857,0.4834123222748815,0.4858490566037736,0.48826291079812206,0.48598130841121495,0.4883720930232558,0.49074074074074076,0.4930875576036866,0.4908256880733945,0.4885844748858447,0.4909090909090909,0.48868778280542985,0.4864864864864865,0.48878923766816146,0.48660714285714285,0.48444444444444446,0.4823008849557522,0.4801762114537445,0.4824561403508772,0.48034934497816595,0.4826086956521739,0.48484848484848486,0.4870689655172414,0.48497854077253216,0.4829059829059829,0.4851063829787234,0.4830508474576271,0.4810126582278481,0.4789915966386555,0.4811715481171548,0.4791666666666667,0.48132780082987553,0.4793388429752066,0.4773662551440329,0.47540983606557374,0.4775510204081633,0.47560975609756095,0.47368421052631576,0.47580645161290325,0.4779116465863454,0.48,0.47808764940239046,0.4801587301587302,0.48221343873517786,0.484251968503937,0.4823529411764706,0.48046875,0.4785992217898833,0.47674418604651164,0.47876447876447875,0.47692307692307695,0.4789272030651341,0.4770992366412214,0.4790874524714829,0.4772727272727273,0.47547169811320755,0.4774436090225564,0.4756554307116105,0.47761194029850745,0.4795539033457249,0.48148148148148145,0.4833948339483395,0.4852941176470588,0.48717948717948717,0.4854014598540146,0.48363636363636364,0.48188405797101447,0.48375451263537905,0.4856115107913669,0.4874551971326165,0.4857142857142857,0.4875444839857651,0.4858156028368794,0.4876325088339223,0.4894366197183099,0.49122807017543857,0.493006993006993,0.49477351916376305,0.4965277777777778,0.4982698961937716,0.5,0.49828178694158076,0.4965753424657534,0.4948805460750853,0.4965986394557823,0.49830508474576274,0.4966216216216216,0.4983164983164983,0.4966442953020134,0.4983277591973244,0.5,0.4983388704318937,0.5,0.5016501650165016,0.5,0.5016393442622951,0.5032679738562091,0.504885993485342,0.5032467532467533,0.5016181229773463,0.5,0.5016077170418006,0.5,0.4984025559105431,0.4968152866242038,0.4984126984126984,0.5,0.49842271293375395,0.5,0.49843260188087773,0.496875,0.4953271028037383,0.4968944099378882,0.4984520123839009,0.49691358024691357,0.49538461538461537,0.4938650306748466,0.4954128440366973,0.49390243902439024,0.49240121580547114,0.4909090909090909,0.48942598187311176,0.4879518072289157,0.4894894894894895,0.49101796407185627,0.48955223880597015,0.4880952380952381,0.486646884272997,0.48520710059171596,0.48672566371681414,0.4852941176470588,0.4868035190615836,0.48830409356725146,0.4868804664723032,0.4883720930232558,0.48695652173913045,0.4884393063583815,0.48703170028818443,0.48563218390804597,0.4871060171919771,0.48857142857142855,0.49002849002849,0.48863636363636365,0.49008498583569404,0.4887005649717514,0.48732394366197185,0.4859550561797753,0.484593837535014,0.4860335195530726,0.48746518105849584,0.4888888888888889,0.4903047091412742,0.49171270718232046,0.4903581267217631,0.49175824175824173,0.4904109589041096,0.4918032786885246,0.4904632152588556,0.4891304347826087,0.4878048780487805,0.4891891891891892,0.48787061994609165,0.489247311827957,0.4906166219839142,0.4919786096256685,0.49333333333333335,0.4946808510638298,0.4960212201591512,0.4973544973544973,0.49604221635883905,0.49473684210526314,0.49343832020997375,0.49214659685863876,0.4934725848563969,0.4947916666666667,0.4961038961038961,0.4948186528497409,0.49612403100775193,0.49742268041237114,0.4987146529562982,0.49743589743589745,0.4961636828644501,0.49489795918367346,0.49363867684478374,0.49238578680203043,0.4911392405063291,0.49242424242424243,0.49370277078085645,0.49246231155778897,0.49122807017543857,0.4925,0.4937655860349127,0.49502487562189057,0.49627791563275436,0.49504950495049505,0.49382716049382713,0.49261083743842365,0.4914004914004914,0.49019607843137253,0.4889975550122249,0.4902439024390244,0.49148418491484186,0.49029126213592233,0.4915254237288136,0.49033816425120774,0.491566265060241,0.49038461538461536,0.4892086330935252,0.4904306220095694,0.4916467780429594,0.49047619047619045,0.4916864608076009,0.490521327014218,0.48936170212765956,0.4882075471698113,0.4894117647058824,0.48826291079812206,0.4894613583138173,0.4883177570093458,0.48717948717948717,0.48604651162790696,0.48491879350348027,0.4837962962962963,0.48267898383371827,0.4815668202764977,0.4827586206896552,0.48394495412844035,0.4851258581235698,0.4840182648401826,0.48519362186788156,0.4863636363636364,0.4852607709750567,0.4841628959276018,0.48306997742663654,0.481981981981982,0.48089887640449436,0.4798206278026906,0.47874720357941836,0.47767857142857145,0.4766146993318486,0.4777777777777778,0.4789356984478936,0.48008849557522126,0.47902869757174393,0.4779735682819383,0.47692307692307695,0.4758771929824561,0.47702407002188185,0.4781659388646288,0.477124183006536,0.4782608695652174,0.4772234273318872,0.47619047619047616,0.47516198704103674,0.47413793103448276,0.4731182795698925,0.4721030042918455,0.4732334047109208,0.47435897435897434,0.47334754797441364,0.474468085106383,0.47558386411889597,0.4766949152542373,0.47780126849894294,0.47890295358649787,0.48,0.4810924369747899,0.48218029350104824,0.48326359832635984,0.4822546972860125,0.48125,0.4802494802494803,0.48132780082987553,0.4803312629399586,0.48140495867768596,0.48041237113402063,0.4794238683127572,0.4784394250513347,0.47950819672131145,0.48057259713701433,0.47959183673469385,0.48065173116089616,0.4817073170731707,0.48073022312373226,0.4817813765182186,0.4808080808080808,0.48185483870967744,0.482897384305835,0.4819277108433735,0.48096192384769537,0.48,0.47904191616766467,0.47808764940239046,0.47713717693836977,0.4781746031746032,0.4792079207920792,0.4782608695652174,0.47731755424063116,0.4763779527559055,0.47544204322200395,0.4745098039215686,0.4755381604696673,0.4765625,0.4775828460038986,0.4785992217898833,0.47766990291262135,0.47674418604651164,0.4758220502901354,0.4749034749034749,0.47591522157996147,0.475,0.4740882917466411,0.47509578544061304,0.47609942638623326,0.4770992366412214,0.4780952380952381,0.4790874524714829,0.48007590132827327,0.4810606060606061,0.4820415879017013,0.4811320754716981,0.480225988700565,0.48120300751879697,0.4803001876172608,0.4794007490636704,0.4785046728971963,0.47947761194029853,0.48044692737430167,0.48141263940520446,0.4805194805194805,0.48148148148148145,0.4805914972273567,0.48154981549815495,0.48250460405156537,0.48161764705882354,0.48073394495412847,0.4816849816849817,0.48080438756855576,0.48175182481751827,0.4808743169398907,0.4818181818181818,0.4809437386569873,0.48007246376811596,0.47920433996383366,0.47833935018050544,0.47927927927927927,0.4784172661870504,0.47755834829443444,0.4767025089605735,0.4776386404293381,0.4785714285714286,0.47950089126559714,0.4804270462633452,0.48134991119005327,0.4804964539007092,0.4814159292035398,0.4823321554770318,0.48148148148148145,0.4823943661971831,0.48154657293497366,0.4807017543859649,0.4798598949211909,0.479020979020979,0.4799301919720768,0.47909407665505227,0.4782608695652174,0.4791666666666667,0.4800693240901213,0.4809688581314879,0.48186528497409326,0.4827586206896552,0.4819277108433735,0.48109965635738833,0.48198970840480276,0.4811643835616438,0.48205128205128206,0.4812286689419795,0.48211243611584326,0.48299319727891155,0.48217317487266553,0.48135593220338985,0.4805414551607445,0.4814189189189189,0.4806070826306914,0.4797979797979798,0.48067226890756304,0.4798657718120805,0.47906197654941374,0.4782608695652174,0.4774624373956594,0.47833333333333333,0.47753743760399336,0.47840531561461797,0.4792703150912106,0.48013245033112584,0.4809917355371901,0.48184818481848185,0.48105436573311366,0.4819078947368421,0.4827586206896552,0.48360655737704916,0.4828150572831424,0.4820261437908497,0.4812398042414356,0.4804560260586319,0.4813008130081301,0.4805194805194805,0.4813614262560778,0.48058252427184467,0.4798061389337641,0.4790322580645161,0.4782608695652174,0.477491961414791,0.478330658105939,0.4791666666666667,0.48,0.48083067092651754,0.48165869218500795,0.482484076433121,0.48330683624801274,0.48412698412698413,0.48335974643423135,0.4825949367088608,0.4834123222748815,0.4842271293375394,0.48346456692913387,0.4827044025157233,0.4835164835164835,0.4843260188087774,0.48513302034428796,0.4859375,0.48517940717628705,0.48598130841121495,0.4867807153965785,0.4860248447204969,0.4868217054263566,0.48761609907120745,0.4868624420401855,0.4876543209876543,0.4884437596302003,0.48923076923076925,0.49001536098310294,0.49079754601226994,0.49157733537519144,0.4908256880733945,0.4900763358778626,0.4893292682926829,0.4885844748858447,0.48936170212765956,0.48861911987860396,0.48787878787878786,0.48714069591527986,0.4879154078549849,0.48717948717948717,0.4879518072289157,0.48872180451127817,0.4894894894894895,0.49025487256371814,0.48952095808383234,0.49028400597907323,0.48955223880597015,0.4903129657228018,0.4895833333333333,0.4888558692421991,0.48813056379821956,0.4888888888888889,0.4881656804733728,0.4874446085672083,0.4882005899705015,0.48748159057437407,0.48823529411764705,0.48751835535976507,0.48826979472140764,0.4890190336749634,0.489766081871345,0.48905109489051096,0.48833819241982507,0.487627365356623,0.4883720930232558,0.4876632801161103,0.48840579710144927,0.487698986975398,0.4884393063583815,0.48773448773448774,0.4884726224783862,0.48776978417266187,0.4870689655172414,0.4878048780487805,0.4885386819484241,0.48783977110157367,0.48857142857142855,0.4893009985734665,0.49002849002849,0.4907539118065434,0.4914772727272727,0.4907801418439716,0.49008498583569404,0.4908062234794908,0.4915254237288136,0.4922425952045134,0.4915492957746479,0.4908579465541491,0.4901685393258427,0.4894810659186536,0.49019607843137253,0.48951048951048953,0.4888268156424581,0.4881450488145049,0.48746518105849584,0.48678720445062584,0.4861111111111111,0.4868238557558946,0.48614958448753465,0.4854771784232365,0.48480662983425415,0.48413793103448277,0.48484848484848486,0.48418156808803303,0.4848901098901099,0.48559670781893005,0.4849315068493151,0.4856361149110807,0.48633879781420764,0.48567530695770805,0.48501362397820164,0.48435374149659866,0.485054347826087,0.48575305291723203,0.48509485094850946,0.4857916102841678,0.4864864864864865,0.48717948717948717,0.4865229110512129,0.48721399730820997,0.4879032258064516,0.4885906040268456,0.4879356568364611,0.4886211512717537,0.4879679144385027,0.4886515353805073,0.488,0.48868175765645805,0.48936170212765956,0.48871181938911024,0.48938992042440316,0.4900662251655629,0.4894179894179894,0.48877146631439894,0.4894459102902375,0.4888010540184453,0.4881578947368421,0.48751642575558474,0.4868766404199475,0.48623853211009177,0.4869109947643979,0.4875816993464052,0.4869451697127937,0.4863102998696219,0.4856770833333333,0.4850455136540962,0.4857142857142857,0.48508430609597925,0.4844559585492228,0.4851228978007762,0.48578811369509045,0.4864516129032258,0.48711340206185566,0.4877734877734878,0.487146529562982,0.4865211810012837,0.48717948717948717,0.4878361075544174,0.4884910485933504,0.4891443167305236,0.4897959183673469,0.49044585987261147,0.48982188295165396,0.4891994917407878,0.48984771573604063,0.4892268694550063,0.489873417721519,0.49051833122629585,0.4911616161616162,0.4918032786885246,0.4924433249370277,0.4918238993710692,0.49246231155778897,0.4918444165621079,0.4924812030075188,0.493116395494368,0.49375,0.4943820224719101,0.49501246882793015,0.4943960149439601,0.4937810945273632,0.493167701863354,0.49255583126550867,0.49318463444857497,0.4938118811881188,0.49443757725587145,0.49506172839506174,0.49445129469790383,0.4938423645320197,0.4944649446494465,0.4950859950859951,0.49570552147239266,0.4950980392156863,0.4944920440636475,0.4938875305623472,0.4945054945054945,0.49390243902439024,0.4933008526187576,0.49391727493917276,0.4945321992709599,0.49514563106796117,0.49454545454545457,0.4939467312348668,0.49455864570737607,0.4939613526570048,0.4945717732207479,0.4939759036144578,0.49458483754512633,0.49399038461538464,0.49339735894357745,0.4940047961630695,0.4934131736526946,0.49401913875598086,0.4934289127837515,0.49403341288782815,0.4934445768772348,0.49404761904761907,0.4934601664684899,0.49406175771971494,0.49466192170818507,0.4940758293838863,0.49467455621301776,0.49527186761229314,0.4946871310507674,0.49410377358490565,0.49469964664310956,0.49411764705882355,0.4935370152761457,0.49295774647887325,0.4935521688159437,0.4929742388758782,0.4935672514619883,0.4929906542056075,0.4935822637106184,0.49417249417249415,0.4947613504074505,0.49534883720930234,0.4959349593495935,0.4965197215777262,0.4959443800695249,0.4965277777777778,0.49710982658959535,0.49653579676674364,0.497116493656286,0.4976958525345622,0.49712313003452246,0.49770114942528737,0.49827784156142363,0.49770642201834864,0.49713631156930127,0.4965675057208238,0.49714285714285716,0.4965753424657534,0.4960091220068415,0.49544419134396356,0.4960182025028441,0.4965909090909091,0.4960272417707151,0.4965986394557823,0.4971687429218573,0.497737556561086,0.4971751412429379,0.4966139954853273,0.496054114994363,0.4966216216216216,0.49606299212598426,0.4966292134831461,0.49719416386083054,0.4977578475336323,0.49832026875699886,0.49776286353467564,0.4972067039106145,0.49776785714285715,0.4972129319955407,0.49665924276169265,0.4961067853170189,0.49666666666666665,0.4961154273029967,0.4955654101995565,0.4950166112956811,0.4944690265486726,0.4950276243093923,0.49448123620309054,0.49503858875413453,0.4955947136563877,0.49504950495049505,0.4945054945054945,0.49396267837541163,0.4934210526315789,0.4928806133625411,0.4934354485776805,0.492896174863388,0.4923580786026201,0.49291166848418755,0.4934640522875817,0.4940152339499456,0.4934782608695652,0.494028230184582,0.4945770065075922,0.49512459371614304,0.49567099567099565,0.4962162162162162,0.49676025917926564,0.49730312837108953,0.49676724137931033,0.49623250807319697,0.4967741935483871,0.49731471535982813,0.4978540772532189,0.4983922829581994,0.49785867237687365,0.4983957219251337,0.49893162393162394,0.4983991462113127,0.4978678038379531,0.49733759318423854,0.4968085106382979,0.4973432518597237,0.4968152866242038,0.49628844114528103,0.4957627118644068,0.49523809523809526,0.49577167019027485,0.4952481520591341,0.4947257383966245,0.4952581664910432,0.49473684210526314,0.4942166140904311,0.4947478991596639,0.49422875131164745,0.4937106918238994,0.4942408376963351,0.49372384937238495,0.49320794148380354,0.49269311064718163,0.4932221063607925,0.49375,0.49323621227887615,0.49272349272349275,0.49221183800623053,0.491701244813278,0.49119170984455957,0.4917184265010352,0.49120992761116855,0.49173553719008267,0.49122807017543857,0.49072164948453606,0.49124613800205974,0.49176954732510286,0.49126413155190135,0.4917864476386037,0.49128205128205127,0.4918032786885246,0.4923234390992835,0.49284253578732107,0.4923391215526047,0.4928571428571429,0.49337410805300713,0.4938900203665988,0.49440488301119023,0.4949186991869919,0.4954314720812183,0.49594320486815413,0.49544072948328266,0.4959514170040486,0.49646107178968657,0.49595959595959593,0.496468213925328,0.4959677419354839,0.49647532729103727,0.4959758551307847,0.49547738693467336,0.49497991967871485,0.4944834503510532,0.49498997995991983,0.4954954954954955,0.496]},\"selected\":{\"id\":\"31134\",\"type\":\"Selection\"},\"selection_policy\":{\"id\":\"31133\",\"type\":\"UnionRenderers\"}},\"id\":\"30116\",\"type\":\"ColumnDataSource\"},{\"attributes\":{\"dimension\":1,\"ticker\":{\"id\":\"30099\",\"type\":\"BasicTicker\"}},\"id\":\"30102\",\"type\":\"Grid\"}],\"root_ids\":[\"30084\"]},\"title\":\"Bokeh Application\",\"version\":\"1.2.0\"}};\n",
       "  var render_items = [{\"docid\":\"218d7377-3c1a-4f54-9cf1-97c507cfa3b3\",\"roots\":{\"30084\":\"74ac0fb3-62bf-4df6-96de-39b6d20c69a6\"}}];\n",
       "  root.Bokeh.embed.embed_items_notebook(docs_json, render_items);\n",
       "\n",
       "  }\n",
       "  if (root.Bokeh !== undefined) {\n",
       "    embed_document(root);\n",
       "  } else {\n",
       "    var attempts = 0;\n",
       "    var timer = setInterval(function(root) {\n",
       "      if (root.Bokeh !== undefined) {\n",
       "        embed_document(root);\n",
       "        clearInterval(timer);\n",
       "      }\n",
       "      attempts++;\n",
       "      if (attempts > 100) {\n",
       "        console.log(\"Bokeh: ERROR: Unable to run BokehJS code because BokehJS library is missing\");\n",
       "        clearInterval(timer);\n",
       "      }\n",
       "    }, 10, root)\n",
       "  }\n",
       "})(window);"
      ],
      "application/vnd.bokehjs_exec.v0+json": ""
     },
     "metadata": {
      "application/vnd.bokehjs_exec.v0+json": {
       "id": "30084"
      }
     },
     "output_type": "display_data"
    }
   ],
   "source": [
    "def plot_mean_of_flips(p=0.5, size=200):\n",
    "    \n",
    "    #generate x values\n",
    "    x = np.arange(size)\n",
    "    \n",
    "    # generate coin flips\n",
    "    results = binom.rvs(n=1, p=p, size=size)\n",
    "    \n",
    "    # get the list of accumulated means\n",
    "    y = [describe(results[:i+1]).mean for i in x]\n",
    "    \n",
    "    # creating the plot\n",
    "    plot = figure(y_range=(0,1), x_axis_label='Coin flips', y_axis_label='Mean of coin flips', plot_height=400, plot_width=550)\n",
    "    plot.line(x, y)\n",
    "    plot.line(x, p, color='grey', line_alpha=0.8)\n",
    "    label = Label(x=size*3/5, y=p, text=\"expected value\", text_baseline=\"bottom\", text_alpha=0.8)\n",
    "    plot.add_layout(label)\n",
    "\n",
    "    show(plot)\n",
    "    return plot\n",
    "\n",
    "_ = plot_mean_of_flips(p=0.5, size=1000)"
   ]
  },
  {
   "cell_type": "markdown",
   "metadata": {},
   "source": [
    "That is the relationship between the expected value and the mean. \n",
    "\n",
    "## Variance\n",
    "\n",
    "The <b>variance</b> measures how concentrated or spread out from the expected value the data is.\n",
    "\n",
    "$$Var(X)=E[(X-E(X))^2]=\\sum_{i=1}^{n}p_i\\times (x_i-E(X))^2$$\n",
    "\n",
    "Variance is the expected value of the squared deviation of a random variable from its expected value. We will again use the <code>describe</code> function and take the variance from the result.\n",
    "\n",
    "In the particular case of the binomial distribution, the expected value is the product of the number of coin flips and the probability of getting heads.\n",
    "\n",
    "For $X\\sim Binomial(n,p)$\n",
    "$$E(X)=n\\times p$$\n",
    "$$Var(X)=n\\times p \\times (1-p)$$\n",
    "\n",
    "The variance is the product of the expected value and the probability of failure. We can use <code>binom.stats()</code> method to get the expected value and variance of a binomial distribution."
   ]
  },
  {
   "cell_type": "code",
   "execution_count": 71,
   "metadata": {},
   "outputs": [
    {
     "data": {
      "text/plain": [
       "(array(0.5), array(0.25))"
      ]
     },
     "execution_count": 71,
     "metadata": {},
     "output_type": "execute_result"
    }
   ],
   "source": [
    "binom.stats(n=1, p=0.5)"
   ]
  },
  {
   "cell_type": "markdown",
   "metadata": {},
   "source": [
    "Using <code>binom.stats()</code> we can make some calculations so we know what we can expect in our simulations. \n",
    "\n",
    "Expected value, mean and variance are essential to probability and statistics. In fact these are the most important measures to calculate to determine if the data is spread out or concentrated around the expected value."
   ]
  },
  {
   "cell_type": "code",
   "execution_count": 85,
   "metadata": {},
   "outputs": [
    {
     "name": "stdout",
     "output_type": "stream",
     "text": [
      "Mean 2.5048000000000004\n",
      "Variance 1.896577777777778\n",
      "(array(2.5), array(1.875))\n"
     ]
    }
   ],
   "source": [
    "averages = []\n",
    "variances = []\n",
    "\n",
    "for i in range(0, 1500):\n",
    "\t# 10 draws of 10 coin flips with 25% probability of heads\n",
    "    sample = binom.rvs(n=10, p=0.25, size=10)\n",
    "\t# Mean and variance of the values in the sample variable\n",
    "    averages.append(describe(sample).mean)\n",
    "    variances.append(describe(sample).variance)\n",
    "  \n",
    " # Calculate the mean of the averages variable\n",
    "print(\"Mean {}\".format(describe(averages).mean))\n",
    "\n",
    "# Calculate the mean of the variances variable\n",
    "print(\"Variance {}\".format(describe(variances).mean))\n",
    "\n",
    "# Calculate the mean and variance\n",
    "print(binom.stats(n=10, p=0.25))"
   ]
  }
 ],
 "metadata": {
  "kernelspec": {
   "display_name": "Python 3",
   "language": "python",
   "name": "python3"
  },
  "language_info": {
   "codemirror_mode": {
    "name": "ipython",
    "version": 3
   },
   "file_extension": ".py",
   "mimetype": "text/x-python",
   "name": "python",
   "nbconvert_exporter": "python",
   "pygments_lexer": "ipython3",
   "version": "3.6.8"
  }
 },
 "nbformat": 4,
 "nbformat_minor": 2
}
